{
 "cells": [
  {
   "cell_type": "code",
   "execution_count": 37,
   "metadata": {},
   "outputs": [],
   "source": [
    "import pandas as pd"
   ]
  },
  {
   "cell_type": "code",
   "execution_count": 15,
   "metadata": {},
   "outputs": [],
   "source": [
    "train_data = pd.read_csv('train.csv')"
   ]
  },
  {
   "cell_type": "code",
   "execution_count": 71,
   "metadata": {},
   "outputs": [],
   "source": [
    "def make_datasets(input_data, output_dir, test_size=0.3):\n",
    "    train_prefix = 'train_'\n",
    "    validation_prefix = 'val_'\n",
    "    \n",
    "    X_sufix = '_features'\n",
    "    y_sufix = '_target'\n",
    "    spliting_generator = train_validation_split(train_data, test_size=test_size)\n",
    "    \n",
    "    print('Starting to Generate splitting...')\n",
    "    for instance_index, (X_train, X_test, y_train, y_test) in enumerate(spliting_generator):\n",
    "        train_file = output_dir + train_prefix + str(instance_index)\n",
    "        validation_file = output_dir + validation_prefix + str(instance_index)\n",
    "        \n",
    "        X_train.to_csv(train_file + X_sufix + '.csv')\n",
    "        y_train.to_csv(train_file + y_sufix + '.csv')\n",
    "\n",
    "        X_test.to_csv(validation_file + X_sufix + '.csv')\n",
    "        y_test.to_csv(validation_file + y_sufix + '.csv')\n",
    "\n",
    "    print('Dataset Generated Successfuly')"
   ]
  },
  {
   "cell_type": "code",
   "execution_count": 72,
   "metadata": {},
   "outputs": [
    {
     "name": "stdout",
     "output_type": "stream",
     "text": [
      "Starting to Generate splitting...\n",
      "Dataset Generated Successfuly\n"
     ]
    }
   ],
   "source": [
    "make_datasets(train_data, 'splitted_dataset/')"
   ]
  },
  {
   "cell_type": "code",
   "execution_count": 73,
   "metadata": {},
   "outputs": [
    {
     "ename": "NameError",
     "evalue": "name 'test' is not defined",
     "output_type": "error",
     "traceback": [
      "\u001b[0;31m---------------------------------------------------------------------------\u001b[0m",
      "\u001b[0;31mNameError\u001b[0m                                 Traceback (most recent call last)",
      "\u001b[0;32m<ipython-input-73-4e1243bd22c6>\u001b[0m in \u001b[0;36m<module>\u001b[0;34m\u001b[0m\n\u001b[0;32m----> 1\u001b[0;31m \u001b[0mtest\u001b[0m\u001b[0;34m\u001b[0m\u001b[0;34m\u001b[0m\u001b[0m\n\u001b[0m",
      "\u001b[0;31mNameError\u001b[0m: name 'test' is not defined"
     ]
    }
   ],
   "source": [
    "test"
   ]
  }
 ],
 "metadata": {
  "kernelspec": {
   "display_name": "Python 3",
   "language": "python",
   "name": "python3"
  },
  "language_info": {
   "codemirror_mode": {
    "name": "ipython",
    "version": 3
   },
   "file_extension": ".py",
   "mimetype": "text/x-python",
   "name": "python",
   "nbconvert_exporter": "python",
   "pygments_lexer": "ipython3",
   "version": "3.7.4"
  }
 },
 "nbformat": 4,
 "nbformat_minor": 4
}
