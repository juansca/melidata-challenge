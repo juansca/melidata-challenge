{
 "cells": [
  {
   "cell_type": "code",
   "execution_count": 35,
   "metadata": {},
   "outputs": [],
   "source": [
    "import pandas as pd\n",
    "from sklearn.metrics import balanced_accuracy_score"
   ]
  },
  {
   "cell_type": "code",
   "execution_count": 44,
   "metadata": {},
   "outputs": [],
   "source": [
    "true_set = 'splitted_dataset/val_0_target_.csv'\n",
    "predictions_set = 'splitted_dataset/val_0_target_.csv'"
   ]
  },
  {
   "cell_type": "code",
   "execution_count": 45,
   "metadata": {},
   "outputs": [],
   "source": [
    "predictions_data = pd.read_csv(predictions_set)\n",
    "true_data = pd.read_csv(true_set)"
   ]
  },
  {
   "cell_type": "code",
   "execution_count": 51,
   "metadata": {},
   "outputs": [],
   "source": [
    "def compute_balanced_accuracy(test, predictions, p_test=0.3, n_splits=5):\n",
    "    print('Joining data...')\n",
    "    joined_datasets = test.merge(predictions, on='id', how='inner')\n",
    "    \n",
    "    print('Data Joined Successfully')\n",
    "    y_true = joined_datasets.category_x\n",
    "    y_pred = joined_datasets.category_y\n",
    "    print('Computing Metric')\n",
    "    score = balanced_accuracy_score(y_true, y_pred)\n",
    "\n",
    "    return score"
   ]
  },
  {
   "cell_type": "code",
   "execution_count": 52,
   "metadata": {},
   "outputs": [
    {
     "name": "stdout",
     "output_type": "stream",
     "text": [
      "Joining data...\n",
      "Data Joined Successfully\n",
      "Computing Metric\n"
     ]
    },
    {
     "data": {
      "text/plain": [
       "1.0"
      ]
     },
     "execution_count": 52,
     "metadata": {},
     "output_type": "execute_result"
    }
   ],
   "source": [
    "compute_balanced_accuracy(true_data, predictions_data)"
   ]
  }
 ],
 "metadata": {
  "jupytext": {
   "formats": "py,ipynb,auto:light"
  },
  "kernelspec": {
   "display_name": "Python 3",
   "language": "python",
   "name": "python3"
  },
  "language_info": {
   "codemirror_mode": {
    "name": "ipython",
    "version": 3
   },
   "file_extension": ".py",
   "mimetype": "text/x-python",
   "name": "python",
   "nbconvert_exporter": "python",
   "pygments_lexer": "ipython3",
   "version": "3.7.4"
  }
 },
 "nbformat": 4,
 "nbformat_minor": 4
}
