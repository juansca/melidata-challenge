{
 "cells": [
  {
   "cell_type": "code",
   "execution_count": 25,
   "metadata": {},
   "outputs": [],
   "source": [
    "import pandas as pd\n",
    "from sklearn.metrics import balanced_accuracy_score\n",
    "from tqdm import tqdm\n",
    "tqdm.pandas()"
   ]
  },
  {
   "cell_type": "code",
   "execution_count": 2,
   "metadata": {},
   "outputs": [],
   "source": [
    "true_set = 'splitted_dataset/val_0_target_.csv'\n",
    "predictions_set = '../../melidata-challenge-spacy_preprocessing/validation_predicted.csv'"
   ]
  },
  {
   "cell_type": "code",
   "execution_count": 3,
   "metadata": {},
   "outputs": [],
   "source": [
    "predictions_data = pd.read_csv(predictions_set)\n",
    "true_data = pd.read_csv(true_set)"
   ]
  },
  {
   "cell_type": "code",
   "execution_count": 15,
   "metadata": {},
   "outputs": [],
   "source": [
    "from ast import literal_eval as make_tuple"
   ]
  },
  {
   "cell_type": "code",
   "execution_count": 17,
   "metadata": {},
   "outputs": [
    {
     "data": {
      "text/plain": [
       "\"(('__label__FACIAL_SKIN_CARE_PRODUCTS',), array([0.13486357]))\""
      ]
     },
     "execution_count": 17,
     "metadata": {},
     "output_type": "execute_result"
    }
   ],
   "source": [
    "predictions_data['category'][0]"
   ]
  },
  {
   "cell_type": "code",
   "execution_count": 26,
   "metadata": {},
   "outputs": [
    {
     "name": "stderr",
     "output_type": "stream",
     "text": [
      "100%|██████████| 6000000/6000000 [00:11<00:00, 503563.16it/s]\n"
     ]
    }
   ],
   "source": [
    "predictions_data['fixed_cat'] = predictions_data['category'].progress_apply(lambda x: x.split(\"',\")[0].split(\"__label__\")[1])"
   ]
  },
  {
   "cell_type": "code",
   "execution_count": 28,
   "metadata": {},
   "outputs": [],
   "source": [
    "predictions_data['raw_prediction'] = predictions_data['category']\n",
    "predictions_data['category'] = predictions_data['fixed_cat']"
   ]
  },
  {
   "cell_type": "code",
   "execution_count": 4,
   "metadata": {},
   "outputs": [],
   "source": [
    "def compute_balanced_accuracy(test, predictions, p_test=0.3, n_splits=5):\n",
    "    print('Joining data...')\n",
    "    joined_datasets = test.merge(predictions, on='id', how='inner')\n",
    "    \n",
    "    print('Data Joined Successfully')\n",
    "    y_true = joined_datasets.category_x\n",
    "    y_pred = joined_datasets.category_y\n",
    "    print('Computing Metric')\n",
    "    score = balanced_accuracy_score(y_true, y_pred)\n",
    "\n",
    "    return score"
   ]
  },
  {
   "cell_type": "code",
   "execution_count": 30,
   "metadata": {},
   "outputs": [
    {
     "name": "stdout",
     "output_type": "stream",
     "text": [
      "Joining data...\n",
      "Data Joined Successfully\n",
      "Computing Metric\n"
     ]
    },
    {
     "data": {
      "text/plain": [
       "0.7188526472319037"
      ]
     },
     "execution_count": 30,
     "metadata": {},
     "output_type": "execute_result"
    }
   ],
   "source": [
    "compute_balanced_accuracy(true_data, predictions_data)"
   ]
  },
  {
   "cell_type": "code",
   "execution_count": 20,
   "metadata": {},
   "outputs": [
    {
     "name": "stdout",
     "output_type": "stream",
     "text": [
      "Joining data...\n",
      "Data Joined Successfully\n",
      "Computing Metric\n"
     ]
    },
    {
     "data": {
      "text/plain": [
       "0.8117324014593562"
      ]
     },
     "execution_count": 20,
     "metadata": {},
     "output_type": "execute_result"
    }
   ],
   "source": [
    "compute_balanced_accuracy(true_data, predictions_data)"
   ]
  },
  {
   "cell_type": "code",
   "execution_count": 21,
   "metadata": {},
   "outputs": [],
   "source": [
    "true_set = 'splitted_dataset/val_0_target_.csv'\n",
    "predictions10_set = '../fasttext_model/fasttext10_predictions.csv'"
   ]
  },
  {
   "cell_type": "code",
   "execution_count": 22,
   "metadata": {},
   "outputs": [],
   "source": [
    "predictions10_data = pd.read_csv(predictions10_set)"
   ]
  },
  {
   "cell_type": "code",
   "execution_count": 23,
   "metadata": {},
   "outputs": [
    {
     "name": "stdout",
     "output_type": "stream",
     "text": [
      "Joining data...\n",
      "Data Joined Successfully\n",
      "Computing Metric\n"
     ]
    },
    {
     "data": {
      "text/plain": [
       "0.8101638715335748"
      ]
     },
     "execution_count": 23,
     "metadata": {},
     "output_type": "execute_result"
    }
   ],
   "source": [
    "compute_balanced_accuracy(true_data, predictions10_data)"
   ]
  },
  {
   "cell_type": "code",
   "execution_count": null,
   "metadata": {},
   "outputs": [],
   "source": []
  },
  {
   "cell_type": "code",
   "execution_count": null,
   "metadata": {},
   "outputs": [],
   "source": []
  },
  {
   "cell_type": "code",
   "execution_count": 40,
   "metadata": {},
   "outputs": [],
   "source": [
    "import re\n",
    "import spacy\n",
    "\n",
    "\n",
    "nlp = spacy.blank(\"es\", disable=[\"parser\", \"tagger\", \"ner\"])\n",
    "strange_chars = list(\"\"\"|°$¢´®=×`~¨¬½¼¾©¦^±ø¥£¤æ¯\"\"\")\n",
    "byte = r\"\"\"(?<=\\d)mb$|(?<=\\d)gb$|(?<=\\d)tb$|\"\"\"\n",
    "volumen = r\"\"\"(?<=\\d)ml$|(?<=\\d)lt$|(?<=\\d)lts$|(?<=\\d)l$|\"\"\"\n",
    "longitud = r\"\"\"(?<=\\d)mm$|(?<=\\d)cm$|(?<=\\d)mt$|(?<=\\d)mts$|(?<=\\d)m$|\"\"\"\n",
    "masa = r\"\"\"(?<=\\d)mg$|(?<=\\d)g$|(?<=\\d)kg$|(?<=\\d)kgs$\"\"\"\n",
    "suffix_re = re.compile(byte + volumen + longitud + masa)\n",
    "\n",
    "tokenizer = spacy.tokenizer.Tokenizer(nlp.vocab, suffix_search=suffix_re.search)"
   ]
  },
  {
   "cell_type": "code",
   "execution_count": 41,
   "metadata": {},
   "outputs": [],
   "source": [
    "def tok_title(title):\n",
    "    f_title = []\n",
    "    for t in tokenizer(title):\n",
    "        f_title.append(str(t))\n",
    "        print(t)\n",
    "    return \" \".join(f_title)"
   ]
  },
  {
   "cell_type": "code",
   "execution_count": 42,
   "metadata": {},
   "outputs": [
    {
     "name": "stdout",
     "output_type": "stream",
     "text": [
      "hola\n",
      "como\n",
      "va\n",
      "20\n",
      "mm\n"
     ]
    },
    {
     "data": {
      "text/plain": [
       "'hola como va 20 mm'"
      ]
     },
     "execution_count": 42,
     "metadata": {},
     "output_type": "execute_result"
    }
   ],
   "source": [
    "tok_title('hola como va 20mm')"
   ]
  }
 ],
 "metadata": {
  "jupytext": {
   "formats": "py,ipynb,auto:light"
  },
  "kernelspec": {
   "display_name": "Python 3",
   "language": "python",
   "name": "python3"
  },
  "language_info": {
   "codemirror_mode": {
    "name": "ipython",
    "version": 3
   },
   "file_extension": ".py",
   "mimetype": "text/x-python",
   "name": "python",
   "nbconvert_exporter": "python",
   "pygments_lexer": "ipython3",
   "version": "3.7.4"
  }
 },
 "nbformat": 4,
 "nbformat_minor": 4
}
