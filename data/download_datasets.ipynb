{
 "cells": [
  {
   "cell_type": "code",
   "execution_count": 1,
   "metadata": {},
   "outputs": [],
   "source": [
    "url_train = 'https://meli-data-challenge.s3.amazonaws.com/train.csv.gz'\n",
    "url_test = 'https://meli-data-challenge.s3.amazonaws.com/test.csv'\n",
    "url_example = 'https://meli-data-challenge.s3.amazonaws.com/sample_submission.csv'"
   ]
  },
  {
   "cell_type": "code",
   "execution_count": 2,
   "metadata": {},
   "outputs": [],
   "source": [
    "import requests"
   ]
  },
  {
   "cell_type": "code",
   "execution_count": 3,
   "metadata": {},
   "outputs": [],
   "source": [
    "train_dataset = requests.get(url_train)\n",
    "test_dataset = requests.get(url_test)\n",
    "example_dataset = requests.get(url_example)"
   ]
  },
  {
   "cell_type": "code",
   "execution_count": 4,
   "metadata": {},
   "outputs": [
    {
     "data": {
      "text/plain": [
       "5760694"
      ]
     },
     "execution_count": 4,
     "metadata": {},
     "output_type": "execute_result"
    }
   ],
   "source": [
    "open('train.csv.gz', 'wb').write(train_dataset.content)\n",
    "open('test.csv', 'wb').write(test_dataset.content)\n",
    "open('sample_submission.csv', 'wb').write(example_dataset.content)"
   ]
  }
 ],
 "metadata": {
  "kernelspec": {
   "display_name": "Python 3",
   "language": "python",
   "name": "python3"
  },
  "language_info": {
   "codemirror_mode": {
    "name": "ipython",
    "version": 3
   },
   "file_extension": ".py",
   "mimetype": "text/x-python",
   "name": "python",
   "nbconvert_exporter": "python",
   "pygments_lexer": "ipython3",
   "version": "3.7.4"
  }
 },
 "nbformat": 4,
 "nbformat_minor": 4
}
