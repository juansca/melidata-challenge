{
 "cells": [
  {
   "cell_type": "markdown",
   "metadata": {
    "colab_type": "text",
    "id": "FP2Zr5s103gd"
   },
   "source": [
    "Ok ahora vamos a ver cómo entrenar un modelito con fastText suponiendo que ya tenemos todos los datos preprocesados."
   ]
  },
  {
   "cell_type": "code",
   "execution_count": null,
   "metadata": {
    "colab": {},
    "colab_type": "code",
    "id": "ohovKe4I1oUI"
   },
   "outputs": [],
   "source": [
    "! wget https://github.com/facebookresearch/fastText/archive/v0.9.2.zip"
   ]
  },
  {
   "cell_type": "code",
   "execution_count": null,
   "metadata": {
    "colab": {},
    "colab_type": "code",
    "id": "1w_RxxxE1q-5"
   },
   "outputs": [],
   "source": [
    "! unzip v0.9.2.zip"
   ]
  },
  {
   "cell_type": "code",
   "execution_count": null,
   "metadata": {
    "colab": {},
    "colab_type": "code",
    "id": "KrFFkq6-100r"
   },
   "outputs": [],
   "source": [
    "! cd fastText-0.9.2"
   ]
  },
  {
   "cell_type": "code",
   "execution_count": null,
   "metadata": {
    "colab": {},
    "colab_type": "code",
    "id": "7Pm2mJ372GvC"
   },
   "outputs": [],
   "source": [
    "! pip install fastText-0.9.2/"
   ]
  },
  {
   "cell_type": "code",
   "execution_count": null,
   "metadata": {
    "colab": {},
    "colab_type": "code",
    "id": "K3IbmUXl0zyF"
   },
   "outputs": [],
   "source": [
    "import fasttext as ft\n",
    "import pandas as pd"
   ]
  },
  {
   "cell_type": "code",
   "execution_count": null,
   "metadata": {
    "colab": {},
    "colab_type": "code",
    "id": "Qj38BKIY2jYy"
   },
   "outputs": [],
   "source": [
    "model = ft.train_supervised(input=\"/content/drive/My Drive/Colab Notebooks/fasttext_input.csv\")"
   ]
  },
  {
   "cell_type": "code",
   "execution_count": null,
   "metadata": {
    "colab": {},
    "colab_type": "code",
    "id": "QNrl58hX2v1Q"
   },
   "outputs": [],
   "source": [
    "model.save_model('first_model.bin')"
   ]
  },
  {
   "cell_type": "code",
   "execution_count": 37,
   "metadata": {
    "colab": {
     "base_uri": "https://localhost:8080/",
     "height": 51
    },
    "colab_type": "code",
    "executionInfo": {
     "elapsed": 1115,
     "status": "ok",
     "timestamp": 1590177439472,
     "user": {
      "displayName": "Lisa Biagetti",
      "photoUrl": "https://lh3.googleusercontent.com/a-/AOh14GgJ-qKVO0okbstaAVuFnmq2sYVDSt2FZ7f_mdwLyQ=s64",
      "userId": "16251108322221197840"
     },
     "user_tz": 180
    },
    "id": "G2g_QyGk223h",
    "outputId": "a48fb28d-6a77-4f2b-e6d6-4361f96e9f8b"
   },
   "outputs": [
    {
     "data": {
      "text/plain": [
       "(('__label__FISHING_RODS', '__label__REFRIGERATORS', '__label__PADLOCKS'),\n",
       " array([0.00162074, 0.00162073, 0.00162072]))"
      ]
     },
     "execution_count": 37,
     "metadata": {
      "tags": []
     },
     "output_type": "execute_result"
    }
   ],
   "source": [
    "model.predict('hidrolavadora lavor one bomba aluminio italia', k=3)"
   ]
  },
  {
   "cell_type": "code",
   "execution_count": 40,
   "metadata": {
    "colab": {
     "base_uri": "https://localhost:8080/",
     "height": 51
    },
    "colab_type": "code",
    "executionInfo": {
     "elapsed": 1011,
     "status": "ok",
     "timestamp": 1590182425556,
     "user": {
      "displayName": "Lisa Biagetti",
      "photoUrl": "https://lh3.googleusercontent.com/a-/AOh14GgJ-qKVO0okbstaAVuFnmq2sYVDSt2FZ7f_mdwLyQ=s64",
      "userId": "16251108322221197840"
     },
     "user_tz": 180
    },
    "id": "d4YFY5ZQ4LaW",
    "outputId": "a2da77ff-97ab-4d5f-a583-d7c38ca95721"
   },
   "outputs": [
    {
     "data": {
      "text/plain": [
       "(('__label__DECORATIVE_VINYLS', '__label__PADLOCKS', '__label__REFRIGERATORS'),\n",
       " array([0.00162137, 0.00162136, 0.00162135]))"
      ]
     },
     "execution_count": 40,
     "metadata": {
      "tags": []
     },
     "output_type": "execute_result"
    }
   ],
   "source": [
    "model.predict('guitarra martin blust', k=3)"
   ]
  },
  {
   "cell_type": "code",
   "execution_count": null,
   "metadata": {
    "colab": {},
    "colab_type": "code",
    "id": "tOM48cMK9tai"
   },
   "outputs": [],
   "source": []
  }
 ],
 "metadata": {
  "colab": {
   "authorship_tag": "ABX9TyO+XMf1TC3VoEv3ytoYhNGR",
   "collapsed_sections": [],
   "mount_file_id": "11Ztqv8jMIqLWlu5cWs2jZgtC4vCMC4ZZ",
   "name": "fasttext_model.ipynb",
   "provenance": []
  },
  "kernelspec": {
   "display_name": "Python 3",
   "language": "python",
   "name": "python3"
  },
  "language_info": {
   "codemirror_mode": {
    "name": "ipython",
    "version": 3
   },
   "file_extension": ".py",
   "mimetype": "text/x-python",
   "name": "python",
   "nbconvert_exporter": "python",
   "pygments_lexer": "ipython3",
   "version": "3.7.4"
  }
 },
 "nbformat": 4,
 "nbformat_minor": 4
}
