{
 "cells": [
  {
   "cell_type": "code",
   "execution_count": 1,
   "metadata": {},
   "outputs": [],
   "source": [
    "import pandas as pd"
   ]
  },
  {
   "cell_type": "code",
   "execution_count": 2,
   "metadata": {},
   "outputs": [],
   "source": [
    "features_path = '../data/splitted_dataset/train_0_features_.csv'\n",
    "target_path = '../data/splitted_dataset/train_0_target_.csv'"
   ]
  },
  {
   "cell_type": "code",
   "execution_count": 3,
   "metadata": {},
   "outputs": [],
   "source": [
    "features_X_train = pd.read_csv(features_path)\n",
    "target_train = pd.read_csv(target_path)"
   ]
  },
  {
   "cell_type": "markdown",
   "metadata": {},
   "source": [
    "### Nos quedamos con los ejemplos en español, para probar :) "
   ]
  },
  {
   "cell_type": "code",
   "execution_count": 58,
   "metadata": {},
   "outputs": [],
   "source": [
    "def prepare_data(features_X_train, target_train, languages=['spanish', 'portuguese']):\n",
    "    \n",
    "    selected_languages = features_X_train\n",
    "    my_dataset = selected_languages.merge(target_train, on='id', how='inner')\n",
    "    \n",
    "    my_dataset = my_dataset[['title', 'category']]\n",
    "    my_dataset['category'] = my_dataset['category'].apply(lambda x: '__label__' + x)\n",
    "    my_dataset = my_dataset.reindex(columns=['category', 'title'])\n",
    "    \n",
    "    return my_dataset"
   ]
  },
  {
   "cell_type": "markdown",
   "metadata": {},
   "source": [
    "### Tomamos un mini sample de ejemplo"
   ]
  },
  {
   "cell_type": "markdown",
   "metadata": {},
   "source": [
    "mini_sample = only_spanish.sample(1000)"
   ]
  },
  {
   "cell_type": "markdown",
   "metadata": {},
   "source": [
    "### Unimos las features con el target para armar el dataset"
   ]
  },
  {
   "cell_type": "code",
   "execution_count": 4,
   "metadata": {},
   "outputs": [
    {
     "ename": "NameError",
     "evalue": "name 'only_spanish' is not defined",
     "output_type": "error",
     "traceback": [
      "\u001b[0;31m---------------------------------------------------------------------------\u001b[0m",
      "\u001b[0;31mNameError\u001b[0m                                 Traceback (most recent call last)",
      "\u001b[0;32m<ipython-input-4-ef48044046b5>\u001b[0m in \u001b[0;36m<module>\u001b[0;34m\u001b[0m\n\u001b[0;32m----> 1\u001b[0;31m \u001b[0mmy_dataset\u001b[0m \u001b[0;34m=\u001b[0m \u001b[0monly_spanish\u001b[0m\u001b[0;34m.\u001b[0m\u001b[0mmerge\u001b[0m\u001b[0;34m(\u001b[0m\u001b[0mtarget_train\u001b[0m\u001b[0;34m,\u001b[0m \u001b[0mon\u001b[0m\u001b[0;34m=\u001b[0m\u001b[0;34m'id'\u001b[0m\u001b[0;34m,\u001b[0m \u001b[0mhow\u001b[0m\u001b[0;34m=\u001b[0m\u001b[0;34m'inner'\u001b[0m\u001b[0;34m)\u001b[0m\u001b[0;34m\u001b[0m\u001b[0;34m\u001b[0m\u001b[0m\n\u001b[0m",
      "\u001b[0;31mNameError\u001b[0m: name 'only_spanish' is not defined"
     ]
    }
   ],
   "source": [
    "my_dataset = only_spanish.merge(target_train, on='id', how='inner')"
   ]
  },
  {
   "cell_type": "code",
   "execution_count": 47,
   "metadata": {},
   "outputs": [],
   "source": [
    "my_dataset = my_dataset[['title', 'category']]"
   ]
  },
  {
   "cell_type": "code",
   "execution_count": 48,
   "metadata": {},
   "outputs": [
    {
     "data": {
      "text/plain": [
       "6999781"
      ]
     },
     "execution_count": 48,
     "metadata": {},
     "output_type": "execute_result"
    }
   ],
   "source": [
    "len(my_dataset)"
   ]
  },
  {
   "cell_type": "markdown",
   "metadata": {},
   "source": [
    "### Fasttext espera las labels con el formato `__label__<CATEGORIA>`"
   ]
  },
  {
   "cell_type": "code",
   "execution_count": 49,
   "metadata": {},
   "outputs": [
    {
     "name": "stderr",
     "output_type": "stream",
     "text": [
      "/usr/local/lib/python3.7/site-packages/ipykernel_launcher.py:1: SettingWithCopyWarning: \n",
      "A value is trying to be set on a copy of a slice from a DataFrame.\n",
      "Try using .loc[row_indexer,col_indexer] = value instead\n",
      "\n",
      "See the caveats in the documentation: http://pandas.pydata.org/pandas-docs/stable/indexing.html#indexing-view-versus-copy\n",
      "  \"\"\"Entry point for launching an IPython kernel.\n"
     ]
    }
   ],
   "source": [
    "my_dataset['category'] = my_dataset['category'].apply(lambda x: '__label__' + x)"
   ]
  },
  {
   "cell_type": "code",
   "execution_count": 52,
   "metadata": {},
   "outputs": [],
   "source": [
    "my_dataset = my_dataset.reindex(columns=['category', 'title'])"
   ]
  },
  {
   "cell_type": "code",
   "execution_count": 50,
   "metadata": {},
   "outputs": [],
   "source": [
    "def dump_to_fasttext_dataset_file(dataset, output_path):\n",
    "    print('Starting to dump dataset')\n",
    "    my_dataset.to_csv(output_path, sep=' ', header=False, index=False)\n",
    "    print('Dataset Dumped successfuly')"
   ]
  },
  {
   "cell_type": "code",
   "execution_count": 59,
   "metadata": {},
   "outputs": [],
   "source": [
    "my_dataset = prepare_data(features_X_train, target_train, languages=['spanish', 'portuguese'])"
   ]
  },
  {
   "cell_type": "code",
   "execution_count": 61,
   "metadata": {},
   "outputs": [
    {
     "name": "stdout",
     "output_type": "stream",
     "text": [
      "14000000\n",
      "14000000\n"
     ]
    }
   ],
   "source": [
    "print(len(features_X_train))\n",
    "print(len(my_dataset))"
   ]
  },
  {
   "cell_type": "code",
   "execution_count": 63,
   "metadata": {},
   "outputs": [
    {
     "name": "stdout",
     "output_type": "stream",
     "text": [
      "Starting to dump dataset\n",
      "Dataset Dumped successfuly\n"
     ]
    }
   ],
   "source": [
    "dump_to_fasttext_dataset_file(my_dataset, 'big_dataset.csv')"
   ]
  },
  {
   "cell_type": "markdown",
   "metadata": {},
   "source": [
    "### Checkeo de titulo - categoria"
   ]
  },
  {
   "cell_type": "code",
   "execution_count": 33,
   "metadata": {},
   "outputs": [
    {
     "name": "stdout",
     "output_type": "stream",
     "text": [
      "8792972                                      Picadora  Carne \n",
      "6057558       Deflector Ventanilla 307 Delantero Jgo A/a (3m)\n",
      "8785262     Botellas Plastica Pet 0,50 Litro Tapa Precinto...\n",
      "12562520       2 Rollo De Alambre Galvanizado 17/15; 1000mts.\n",
      "10301851    Kit Set Cubiertos Acero Inoxidable Laguna 24 P...\n",
      "9428974     Ruleman Skf Rueda Delantera Citroen Saxo 1.6 9...\n",
      "4112888     Cerradura Pestillo Electrico Antiguo Marca G.h...\n",
      "470410      Ruedas Patin Artistico Sanvio Mercurio Libre J...\n",
      "13301056     Westar (em5750) Monte Puntal Esfuerzo De Torsión\n",
      "3793365     Moldes Cortantes Set Tiara O Corona Grande + C...\n",
      "4232876     Bescor Led 95dk2 Led Video Light Kit Con Panel...\n",
      "10312450    Aceite De Oliva Virgen Zampal 500ml X 12 Unidades\n",
      "12576855    Escobilla Limpiaparabrisas Mercedes Benz 1938 ...\n",
      "3426641             Conjunto Umbro Knitted Suit Hombre Ultimo\n",
      "8997073             Depiladora Philips Santinelle Soft Hp6609\n",
      "7966870                          Sillas De Bar Y Mesas De Bar\n",
      "5728213     Soporte Para Estante Stark 5x16mm Niquelado X ...\n",
      "7359075     Circuito Integrado Pic18f2550-i 18f2550 Sop28 ...\n",
      "13343733    Vanitory Maral 60 Blanco C/ 1 Cajón Y Deck+mes...\n",
      "12669614    Pastilla De Freno Trasera  Mazfren Renault Meg...\n",
      "2689621     Sacred History Of The World, As Displayed In T...\n",
      "12946908           Pico Forjado Punta Y Pala 108 Mm. Sin Cabo\n",
      "4710867     Bateria Notebook Hp Hdv4hb/g Pavilion  Dv4-121...\n",
      "11243097         Botones Decorativos Carrot Noses Dress It Up\n",
      "1458464     Cocina Singer Florencia 5558a Timer Acero Inox...\n",
      "5807625     Bateria Notebook Samsung Snc318nb/g Np-p430-jb...\n",
      "7866481     Piloto Lluvia Moto Alba + Conjunto Termico  Os...\n",
      "11874316    Accesorios Para Portátiles,gmyle (r) 3 En 1 Fu...\n",
      "12277356    Longboard Completo Mapa Del Vintage Marsella F...\n",
      "11846767    Poderoso Roca 6110 Bluetooth Altavoces Portáti...\n",
      "Name: title, dtype: object\n"
     ]
    }
   ],
   "source": [
    "num = 235361\n",
    "\n",
    "my_sample = features_X_train[features_X_train['language'] == 'spanish'].sample(30)\n",
    "print(my_sample['title'])\n",
    "#print(features_X_train.loc[num].title, features_X_train.loc[num].language)\n",
    "#print(target_train.loc[num].category)"
   ]
  }
 ],
 "metadata": {
  "kernelspec": {
   "display_name": "Python 3",
   "language": "python",
   "name": "python3"
  },
  "language_info": {
   "codemirror_mode": {
    "name": "ipython",
    "version": 3
   },
   "file_extension": ".py",
   "mimetype": "text/x-python",
   "name": "python",
   "nbconvert_exporter": "python",
   "pygments_lexer": "ipython3",
   "version": "3.7.4"
  }
 },
 "nbformat": 4,
 "nbformat_minor": 4
}
