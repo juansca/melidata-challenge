{
 "cells": [
  {
   "cell_type": "code",
   "execution_count": 30,
   "metadata": {},
   "outputs": [],
   "source": [
    "import fasttext"
   ]
  },
  {
   "cell_type": "code",
   "execution_count": 31,
   "metadata": {},
   "outputs": [],
   "source": [
    "# Se espera que este dataset tenga el formato correcto\n",
    "dataset_file = 'big_dataset.csv'"
   ]
  },
  {
   "cell_type": "markdown",
   "metadata": {},
   "source": [
    "### Entrenamos el modelo"
   ]
  },
  {
   "cell_type": "code",
   "execution_count": null,
   "metadata": {},
   "outputs": [],
   "source": [
    "model = fasttext.train_supervised(input=dataset_file)"
   ]
  },
  {
   "cell_type": "code",
   "execution_count": 41,
   "metadata": {},
   "outputs": [],
   "source": [
    "model.save_model('fasttext_multilanguage.bin')"
   ]
  },
  {
   "cell_type": "code",
   "execution_count": 38,
   "metadata": {},
   "outputs": [
    {
     "data": {
      "text/plain": [
       "(('__label__KEYCHAINS',\n",
       "  '__label__AUTOMOTIVE_FRONT_BUMPERS',\n",
       "  '__label__CAR_SEAT_COVERS'),\n",
       " array([0.86199963, 0.03586573, 0.01091345]))"
      ]
     },
     "execution_count": 38,
     "metadata": {},
     "output_type": "execute_result"
    }
   ],
   "source": [
    "model.predict('Chaveiro Mercedes Benz C180 A200 C200 E250 Cla Gla Glk Couro', k=3)"
   ]
  },
  {
   "cell_type": "code",
   "execution_count": 28,
   "metadata": {},
   "outputs": [
    {
     "data": {
      "text/plain": [
       "(('__label__VIDEO_GAMES',\n",
       "  '__label__VIDEO_GAME_PREPAID_CARDS',\n",
       "  '__label__GAME_CONSOLES'),\n",
       " array([0.86951935, 0.06306515, 0.02456598]))"
      ]
     },
     "execution_count": 28,
     "metadata": {},
     "output_type": "execute_result"
    }
   ],
   "source": [
    "model.predict('Spiderman Ps4 Digital 1 ° Oferta Envío Inmediato !!!', k=3)"
   ]
  },
  {
   "cell_type": "code",
   "execution_count": 27,
   "metadata": {},
   "outputs": [
    {
     "data": {
      "text/plain": [
       "(('__label__COMPLETE_SKATEBOARDS',\n",
       "  '__label__SOUVENIRS',\n",
       "  '__label__LONGBOARDS'),\n",
       " array([0.94556719, 0.02449415, 0.00589606]))"
      ]
     },
     "execution_count": 27,
     "metadata": {},
     "output_type": "execute_result"
    }
   ],
   "source": [
    "model.predict('Skate Completo Spray Pintura Personalizada Arte', k=3)"
   ]
  },
  {
   "cell_type": "code",
   "execution_count": 26,
   "metadata": {},
   "outputs": [
    {
     "data": {
      "text/plain": [
       "(('__label__MICROPHONES',\n",
       "  '__label__MICROPHONE_STANDS',\n",
       "  '__label__TURNTABLE_NEEDLES'),\n",
       " array([9.99652028e-01, 3.65426677e-04, 1.22257416e-05]))"
      ]
     },
     "execution_count": 26,
     "metadata": {},
     "output_type": "execute_result"
    }
   ],
   "source": [
    "model.predict('Microfono Shure Mx395al/c Condenser (cardioid)...', k=3)"
   ]
  }
 ],
 "metadata": {
  "kernelspec": {
   "display_name": "Python 3",
   "language": "python",
   "name": "python3"
  },
  "language_info": {
   "codemirror_mode": {
    "name": "ipython",
    "version": 3
   },
   "file_extension": ".py",
   "mimetype": "text/x-python",
   "name": "python",
   "nbconvert_exporter": "python",
   "pygments_lexer": "ipython3",
   "version": "3.7.4"
  }
 },
 "nbformat": 4,
 "nbformat_minor": 4
}
