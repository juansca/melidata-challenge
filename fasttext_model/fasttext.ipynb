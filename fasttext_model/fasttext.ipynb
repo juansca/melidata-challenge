{
 "cells": [
  {
   "cell_type": "code",
   "execution_count": 46,
   "metadata": {},
   "outputs": [],
   "source": [
    "import fasttext"
   ]
  },
  {
   "cell_type": "code",
   "execution_count": 31,
   "metadata": {},
   "outputs": [],
   "source": [
    "# Se espera que este dataset tenga el formato correcto\n",
    "dataset_file = 'big_dataset.csv'"
   ]
  },
  {
   "cell_type": "markdown",
   "metadata": {},
   "source": [
    "## Entrenamos el modelo"
   ]
  },
  {
   "cell_type": "markdown",
   "metadata": {},
   "source": [
    "### Con cantidad default de epochs (5)"
   ]
  },
  {
   "cell_type": "code",
   "execution_count": null,
   "metadata": {},
   "outputs": [],
   "source": [
    "model = fasttext.train_supervised(input=dataset_file)"
   ]
  },
  {
   "cell_type": "code",
   "execution_count": 41,
   "metadata": {},
   "outputs": [],
   "source": [
    "model.save_model('fasttext_multilanguage.bin')"
   ]
  },
  {
   "cell_type": "code",
   "execution_count": 38,
   "metadata": {},
   "outputs": [
    {
     "data": {
      "text/plain": [
       "(('__label__KEYCHAINS',\n",
       "  '__label__AUTOMOTIVE_FRONT_BUMPERS',\n",
       "  '__label__CAR_SEAT_COVERS'),\n",
       " array([0.86199963, 0.03586573, 0.01091345]))"
      ]
     },
     "execution_count": 38,
     "metadata": {},
     "output_type": "execute_result"
    }
   ],
   "source": [
    "model.predict('Chaveiro Mercedes Benz C180 A200 C200 E250 Cla Gla Glk Couro', k=3)"
   ]
  },
  {
   "cell_type": "code",
   "execution_count": 28,
   "metadata": {},
   "outputs": [
    {
     "data": {
      "text/plain": [
       "(('__label__VIDEO_GAMES',\n",
       "  '__label__VIDEO_GAME_PREPAID_CARDS',\n",
       "  '__label__GAME_CONSOLES'),\n",
       " array([0.86951935, 0.06306515, 0.02456598]))"
      ]
     },
     "execution_count": 28,
     "metadata": {},
     "output_type": "execute_result"
    }
   ],
   "source": [
    "model.predict('Spiderman Ps4 Digital 1 ° Oferta Envío Inmediato !!!', k=3)"
   ]
  },
  {
   "cell_type": "code",
   "execution_count": 27,
   "metadata": {},
   "outputs": [
    {
     "data": {
      "text/plain": [
       "(('__label__COMPLETE_SKATEBOARDS',\n",
       "  '__label__SOUVENIRS',\n",
       "  '__label__LONGBOARDS'),\n",
       " array([0.94556719, 0.02449415, 0.00589606]))"
      ]
     },
     "execution_count": 27,
     "metadata": {},
     "output_type": "execute_result"
    }
   ],
   "source": [
    "model.predict('Skate Completo Spray Pintura Personalizada Arte', k=3)"
   ]
  },
  {
   "cell_type": "code",
   "execution_count": 26,
   "metadata": {},
   "outputs": [
    {
     "data": {
      "text/plain": [
       "(('__label__MICROPHONES',\n",
       "  '__label__MICROPHONE_STANDS',\n",
       "  '__label__TURNTABLE_NEEDLES'),\n",
       " array([9.99652028e-01, 3.65426677e-04, 1.22257416e-05]))"
      ]
     },
     "execution_count": 26,
     "metadata": {},
     "output_type": "execute_result"
    }
   ],
   "source": [
    "model.predict('Microfono Shure Mx395al/c Condenser (cardioid)...', k=3)"
   ]
  },
  {
   "cell_type": "code",
   "execution_count": 65,
   "metadata": {},
   "outputs": [
    {
     "data": {
      "text/plain": [
       "(('__label__ENGINE_INTAKE_HOSES',\n",
       "  '__label__INTERCOOLER_HOSES',\n",
       "  '__label__CAR_AC_HOSE_ASSEMBLIES'),\n",
       " array([0.87937611, 0.1044016 , 0.00671365]))"
      ]
     },
     "execution_count": 65,
     "metadata": {},
     "output_type": "execute_result"
    }
   ],
   "source": [
    "model.predict('Mangueira Combustivel - Gm - Filtro Ar Ao Duto Pick-up Corsa', k=3)"
   ]
  },
  {
   "cell_type": "markdown",
   "metadata": {},
   "source": [
    "### Con 10 epochs"
   ]
  },
  {
   "cell_type": "code",
   "execution_count": 50,
   "metadata": {},
   "outputs": [],
   "source": [
    "model_10 = fasttext.train_supervised(input=dataset_file, epoch=10)"
   ]
  },
  {
   "cell_type": "code",
   "execution_count": 51,
   "metadata": {},
   "outputs": [],
   "source": [
    "model_10.save_model('fasttext10_multilanguage.bin')"
   ]
  },
  {
   "cell_type": "code",
   "execution_count": 52,
   "metadata": {},
   "outputs": [
    {
     "data": {
      "text/plain": [
       "(('__label__KEYCHAINS', '__label__AIRBAGS', '__label__CAR_SEAT_COVERS'),\n",
       " array([0.92405653, 0.02501154, 0.01541547]))"
      ]
     },
     "execution_count": 52,
     "metadata": {},
     "output_type": "execute_result"
    }
   ],
   "source": [
    "model_10.predict('Chaveiro Mercedes Benz C180 A200 C200 E250 Cla Gla Glk Couro', k=3)"
   ]
  },
  {
   "cell_type": "code",
   "execution_count": 53,
   "metadata": {},
   "outputs": [
    {
     "data": {
      "text/plain": [
       "(('__label__VIDEO_GAMES',\n",
       "  '__label__GAME_CONSOLES',\n",
       "  '__label__VIDEO_GAME_PREPAID_CARDS'),\n",
       " array([0.9020704 , 0.04611199, 0.01557578]))"
      ]
     },
     "execution_count": 53,
     "metadata": {},
     "output_type": "execute_result"
    }
   ],
   "source": [
    "model_10.predict('Spiderman Ps4 Digital 1 ° Oferta Envío Inmediato !!!', k=3)"
   ]
  },
  {
   "cell_type": "code",
   "execution_count": 27,
   "metadata": {},
   "outputs": [
    {
     "data": {
      "text/plain": [
       "(('__label__COMPLETE_SKATEBOARDS',\n",
       "  '__label__SOUVENIRS',\n",
       "  '__label__LONGBOARDS'),\n",
       " array([0.94556719, 0.02449415, 0.00589606]))"
      ]
     },
     "execution_count": 27,
     "metadata": {},
     "output_type": "execute_result"
    }
   ],
   "source": [
    "model_10.predict('Skate Completo Spray Pintura Personalizada Arte', k=3)"
   ]
  },
  {
   "cell_type": "code",
   "execution_count": 54,
   "metadata": {},
   "outputs": [
    {
     "data": {
      "text/plain": [
       "(('__label__MICROPHONES',\n",
       "  '__label__MICROPHONE_STANDS',\n",
       "  '__label__PREAMPLIFIERS'),\n",
       " array([9.99460638e-01, 5.59425214e-04, 1.00209681e-05]))"
      ]
     },
     "execution_count": 54,
     "metadata": {},
     "output_type": "execute_result"
    }
   ],
   "source": [
    "model_10.predict('Microfono Shure Mx395al/c Condenser (cardioid)...', k=3)"
   ]
  },
  {
   "cell_type": "code",
   "execution_count": 66,
   "metadata": {},
   "outputs": [
    {
     "data": {
      "text/plain": [
       "(('__label__ENGINE_INTAKE_HOSES',\n",
       "  '__label__INTERCOOLER_HOSES',\n",
       "  '__label__CAR_AC_HOSE_ASSEMBLIES'),\n",
       " array([0.88446903, 0.1074672 , 0.00326737]))"
      ]
     },
     "execution_count": 66,
     "metadata": {},
     "output_type": "execute_result"
    }
   ],
   "source": [
    "model_10.predict('Mangueira Combustivel - Gm - Filtro Ar Ao Duto Pick-up Corsa', k=3)"
   ]
  }
 ],
 "metadata": {
  "kernelspec": {
   "display_name": "Python 3",
   "language": "python",
   "name": "python3"
  },
  "language_info": {
   "codemirror_mode": {
    "name": "ipython",
    "version": 3
   },
   "file_extension": ".py",
   "mimetype": "text/x-python",
   "name": "python",
   "nbconvert_exporter": "python",
   "pygments_lexer": "ipython3",
   "version": "3.7.4"
  }
 },
 "nbformat": 4,
 "nbformat_minor": 4
}
