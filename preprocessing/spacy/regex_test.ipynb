{
 "cells": [
  {
   "cell_type": "code",
   "execution_count": 1,
   "metadata": {},
   "outputs": [],
   "source": [
    "import re"
   ]
  },
  {
   "cell_type": "code",
   "execution_count": 243,
   "metadata": {},
   "outputs": [],
   "source": [
    "    def _get_regex():\n",
    "        # dim = '(x?)(\\s?)(\\d+)([.|,]?)((\\d+)?)(\\s?)'\n",
    "        # dim_2 = dim + '(\\s?)(x)(\\s?)' + dim\n",
    "        # dim_3 = dim_2 + '(\\s?)(x)(\\s?)' + dim\n",
    "        # ev_dim = '|'.join([dim, dim_2, dim_3])\n",
    "\n",
    "        # definimos las magnitudes\n",
    "        magnitud = '\\d+[.|,]?\\d*'\n",
    "\n",
    "        # definimos la unidad\n",
    "        longitud = 'mm|mtrs|m|cm|km'\n",
    "        volumen = 'ltrs|l|m3|cc'\n",
    "        masa = 'kg|grs|gr|g'\n",
    "        bytes_ = 'b|mb|tb|gb'\n",
    "\n",
    "        # unidad = '|'.join([longitud, volumen, masa, bytes_])\n",
    "\n",
    "        # posible union \"10cmX15cmx1m\"\n",
    "        union = 'x'\n",
    "\n",
    "        non_alpha = re.compile(r'[^0-9a-zA-Záéíóú]+|\\s+|\\n+')\n",
    "        \n",
    "        all_metrics = '|'.join([longitud, volumen, masa, bytes_])\n",
    "        nada_metric = re.compile('(^a-zA-Z.,)(({})+(?!{}){}?)+(?!a-zA-Z)'.format(magnitud, all_metrics, union))\n",
    " \n",
    "        years = re.compile(r'''[0-9]{4}(?!a-zA-Z.,0-9)''')\n",
    "    \n",
    "        agregates = [(' ', non_alpha), (' año ', years), (' unknown_metric ', nada_metric)]\n",
    "        # una forma mas linda\n",
    "        # # unidades de metricas\n",
    "        metric_tmpl = '(({})+({})[^0-9]+{}?)+'\n",
    "        #\n",
    "        unidades = [(bytes_, ' <BYTES> '), (volumen, ' <VOLUMEN> '), (masa, ' <MASS> '), (longitud, ' <LONGITUD> ')]\n",
    "        metricas = []\n",
    "        for unidad, tag in unidades:\n",
    "            metrica = metric_tmpl.format(magnitud, unidad, union)\n",
    "            metricas.append((tag, re.compile(metrica)))\n",
    "\n",
    "        return agregates + metricas"
   ]
  },
  {
   "cell_type": "code",
   "execution_count": 244,
   "metadata": {},
   "outputs": [],
   "source": [
    "regexesss = _get_regex()\n",
    "def tokenize(title):\n",
    "    metrics = regexesss\n",
    "    for token, regex in metrics:\n",
    "        print(title)\n",
    "        title = re.sub(regex, token, title)\n",
    "    return title\n"
   ]
  },
  {
   "cell_type": "code",
   "execution_count": 245,
   "metadata": {},
   "outputs": [
    {
     "name": "stdout",
     "output_type": "stream",
     "text": [
      "capot corolla 2002 2003 2004 2005 2006 2007 2008\n",
      "capot corolla 2002 2003 2004 2005 2006 2007 2008\n",
      "capot corolla  año   año   año   año   año   año   año \n",
      "capot corolla  año   año   año   año   año   año   año \n",
      "capot corolla  año   año   año   año   año   año   año \n",
      "capot corolla  año   año   año   año   año   año   año \n",
      "capot corolla  año   año   año   año   año   año   año \n",
      "CPU times: user 0 ns, sys: 0 ns, total: 0 ns\n",
      "Wall time: 522 µs\n"
     ]
    },
    {
     "data": {
      "text/plain": [
       "'capot corolla  año   año   año   año   año   año   año '"
      ]
     },
     "execution_count": 245,
     "metadata": {},
     "output_type": "execute_result"
    }
   ],
   "source": [
    "%%time \n",
    "tokenize('capot corolla 2002 2003 2004 2005 2006 2007 2008')"
   ]
  },
  {
   "cell_type": "code",
   "execution_count": 246,
   "metadata": {},
   "outputs": [
    {
     "name": "stdout",
     "output_type": "stream",
     "text": [
      "Hp Eg0300fbdbr 597609-001 0b25642 300gb 2.5  10k 6g Dual Por\n",
      "Hp Eg0300fbdbr 597609 001 0b25642 300gb 2 5 10k 6g Dual Por\n",
      "Hp Eg año fbdbr  año 09 001 0b año 2 300gb 2 5 10k 6g Dual Por\n",
      "Hp Eg año fbdbr  año 09 001 0b año 2 300gb 2 5 10k 6g Dual Por\n",
      "Hp Eg año fbdbr  año 09 001  <BYTES> 2  <BYTES> 2 5 10k 6g Dual Por\n",
      "Hp Eg año fbdbr  año 09 001  <BYTES> 2  <BYTES> 2 5 10k 6g Dual Por\n",
      "Hp Eg año fbdbr  año 09 001  <BYTES> 2  <BYTES> 2 5 10k  <MASS> \n",
      "CPU times: user 4 ms, sys: 0 ns, total: 4 ms\n",
      "Wall time: 940 µs\n"
     ]
    },
    {
     "data": {
      "text/plain": [
       "'Hp Eg año fbdbr  año 09 001  <BYTES> 2  <BYTES> 2 5 10k  <MASS> '"
      ]
     },
     "execution_count": 246,
     "metadata": {},
     "output_type": "execute_result"
    }
   ],
   "source": [
    "%%time \n",
    "tokenize('Hp Eg0300fbdbr 597609-001 0b25642 300gb 2.5  10k 6g Dual Por')"
   ]
  }
 ],
 "metadata": {
  "kernelspec": {
   "display_name": "Python 3",
   "language": "python",
   "name": "python3"
  },
  "language_info": {
   "codemirror_mode": {
    "name": "ipython",
    "version": 3
   },
   "file_extension": ".py",
   "mimetype": "text/x-python",
   "name": "python",
   "nbconvert_exporter": "python",
   "pygments_lexer": "ipython3",
   "version": "3.7.4"
  }
 },
 "nbformat": 4,
 "nbformat_minor": 4
}
