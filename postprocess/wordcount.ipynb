{
 "cells": [
  {
   "cell_type": "code",
   "execution_count": 28,
   "metadata": {},
   "outputs": [],
   "source": [
    "import pandas as pd\n",
    "\n",
    "from collections import Counter"
   ]
  },
  {
   "cell_type": "code",
   "execution_count": 76,
   "metadata": {},
   "outputs": [],
   "source": [
    "input_f = '../preprocessing/spacy/chiquito_f.csv'\n",
    "input_t = '../preprocessing/spacy/chiquito_t.csv'"
   ]
  },
  {
   "cell_type": "code",
   "execution_count": 77,
   "metadata": {},
   "outputs": [],
   "source": [
    "f_df = pd.read_csv(input_f)\n",
    "t_df = pd.read_csv(input_t)"
   ]
  },
  {
   "cell_type": "code",
   "execution_count": 5,
   "metadata": {},
   "outputs": [],
   "source": [
    "all_data = t_df.merge(f_df, on='id', how='inner')"
   ]
  },
  {
   "cell_type": "code",
   "execution_count": 11,
   "metadata": {},
   "outputs": [],
   "source": [
    "all_data = all_data.drop(columns=['Unnamed: 0_x', 'Unnamed: 0.1_x', 'Unnamed: 0_y', 'Unnamed: 0.1_y'])"
   ]
  },
  {
   "cell_type": "code",
   "execution_count": 13,
   "metadata": {},
   "outputs": [],
   "source": [
    "all_data = all_data.drop(columns=['id', 'label_quality', 'language'])"
   ]
  },
  {
   "cell_type": "code",
   "execution_count": 49,
   "metadata": {},
   "outputs": [],
   "source": [
    "all_data_grouped = all_data.groupby('category').agg(' '.join)"
   ]
  },
  {
   "cell_type": "code",
   "execution_count": 60,
   "metadata": {},
   "outputs": [],
   "source": [
    "all_data_grouped['word_count'] = all_data_grouped.title.apply(lambda x: Counter(x.split()))"
   ]
  },
  {
   "cell_type": "code",
   "execution_count": 91,
   "metadata": {},
   "outputs": [],
   "source": [
    "wc = all_data_grouped[['title', 'word_count']].iloc[0].word_count"
   ]
  },
  {
   "cell_type": "code",
   "execution_count": 95,
   "metadata": {},
   "outputs": [
    {
     "data": {
      "text/plain": [
       "Counter({'Ortur': 1,\n",
       "         '4': 1,\n",
       "         '-': 1,\n",
       "         'Impresora': 1,\n",
       "         '3d': 1,\n",
       "         'Con': 1,\n",
       "         'Guía': 1,\n",
       "         'Lineal': 1,\n",
       "         'Y': 1,\n",
       "         'Extrusor': 1,\n",
       "         'De': 1,\n",
       "         'Direct': 1})"
      ]
     },
     "execution_count": 95,
     "metadata": {},
     "output_type": "execute_result"
    }
   ],
   "source": [
    "wc"
   ]
  },
  {
   "cell_type": "code",
   "execution_count": 82,
   "metadata": {},
   "outputs": [],
   "source": [
    "preprocessed_path = '../preprocessing/spacy/chiquito_span.csv'\n",
    "preprocessed = pd.read_csv(preprocessed_path, names=['category', 'title'], sep=' ', header=None)"
   ]
  },
  {
   "cell_type": "code",
   "execution_count": 84,
   "metadata": {},
   "outputs": [],
   "source": [
    "preprocessed['category'] = preprocessed['category'].apply(lambda x: x.split('__label__')[1])"
   ]
  },
  {
   "cell_type": "code",
   "execution_count": 86,
   "metadata": {},
   "outputs": [],
   "source": [
    "preprocessed_grouped = preprocessed.groupby('category').agg(' '.join)"
   ]
  },
  {
   "cell_type": "code",
   "execution_count": 87,
   "metadata": {},
   "outputs": [],
   "source": [
    "preprocessed_grouped['word_count'] = preprocessed_grouped.title.apply(lambda x: Counter(x.split()))"
   ]
  },
  {
   "cell_type": "code",
   "execution_count": 103,
   "metadata": {},
   "outputs": [
    {
     "data": {
      "text/plain": [
       "Index(['3D_PRINTERS', 'ABDOMINAL_TONING_BELTS', 'ABS_SENSORS',\n",
       "       'ACOUSTIC_GUITARS', 'ACTION_FIGURES', 'ADHESIVE_TAPES',\n",
       "       'AIRBAG_MODULES', 'AIR_COMPRESSORS', 'AIR_CONDITIONERS',\n",
       "       'AIR_CONDITIONER_REMOTE_CONTROLS',\n",
       "       ...\n",
       "       'WELDING_BLOWTORCHES', 'WELDING_RODS', 'WETSUITS', 'WHEELS_BEARINGS',\n",
       "       'WINDOWS', 'WIRELESS_ANTENNAS', 'WOMEN_SWIMWEAR', 'WRENCH_SETS',\n",
       "       'WRISTWATCHES', 'YARNS'],\n",
       "      dtype='object', name='category', length=394)"
      ]
     },
     "execution_count": 103,
     "metadata": {},
     "output_type": "execute_result"
    }
   ],
   "source": [
    "preprocessed_grouped.index"
   ]
  },
  {
   "cell_type": "code",
   "execution_count": 107,
   "metadata": {},
   "outputs": [
    {
     "data": {
      "text/plain": [
       "{'Ortur': 1,\n",
       " '4': 1,\n",
       " '-': 1,\n",
       " 'Impresora': 1,\n",
       " '3d': 1,\n",
       " 'Con': 1,\n",
       " 'Guía': 1,\n",
       " 'Lineal': 1,\n",
       " 'Y': 1,\n",
       " 'Extrusor': 1,\n",
       " 'De': 1,\n",
       " 'Direct': 1}"
      ]
     },
     "execution_count": 107,
     "metadata": {},
     "output_type": "execute_result"
    }
   ],
   "source": [
    "dict(wc)"
   ]
  },
  {
   "cell_type": "code",
   "execution_count": 118,
   "metadata": {},
   "outputs": [
    {
     "name": "stdout",
     "output_type": "stream",
     "text": [
      "CPU times: user 0 ns, sys: 0 ns, total: 0 ns\n",
      "Wall time: 18.4 µs\n"
     ]
    }
   ],
   "source": [
    "%time\n",
    "import json\n",
    "my_file = 'word_counts.jsonlines'\n",
    "with open(my_file, 'w') as f:\n",
    "    for category, word_count in zip(preprocessed_grouped.index[:100], preprocessed_grouped['word_count'][:100]):\n",
    "        line_dict = {'category': category, 'word_count': dict(word_count)}\n",
    "        f.write(json.dumps(line_dict) + '\\n')"
   ]
  },
  {
   "cell_type": "code",
   "execution_count": 122,
   "metadata": {},
   "outputs": [
    {
     "data": {
      "text/plain": [
       "2"
      ]
     },
     "execution_count": 122,
     "metadata": {},
     "output_type": "execute_result"
    }
   ],
   "source": [
    "d_line['word_count']['acolchado']"
   ]
  },
  {
   "cell_type": "code",
   "execution_count": 119,
   "metadata": {},
   "outputs": [
    {
     "name": "stdout",
     "output_type": "stream",
     "text": [
      "{'category': '3D_PRINTERS', 'word_count': {'ortur': 1, 'impresora': 1, '3d': 1, 'guía': 1, 'lineal': 1, 'extrusor': 1, 'direct': 1}} ---- <class 'dict'>\n",
      "{'category': 'ABDOMINAL_TONING_BELTS', 'word_count': {'modo': 1, 'ccsme': 1, 'entrenador': 1, 'inteligente': 1, 'caderas': 1, 'nalgas': 1, 'levantami': 1}} ---- <class 'dict'>\n",
      "{'category': 'ABS_SENSORS', 'word_count': {'sensor': 1, 'abs': 1, 'ford': 1, 'focus': 1, 'año': 1}} ---- <class 'dict'>\n",
      "{'category': 'ACOUSTIC_GUITARS', 'word_count': {'guitarra': 1, 'cuerdas': 1, 'arirang': 1}} ---- <class 'dict'>\n",
      "{'category': 'ACTION_FIGURES', 'word_count': {'funko': 1, 'pop': 1, 'star': 1, 'wars': 1, 'rogue': 1, 'one': 1, 'darth': 1, 'vader': 1, 'nuevo': 1}} ---- <class 'dict'>\n",
      "{'category': 'ADHESIVE_TAPES', 'word_count': {'cintas': 1, 'multiproposito': 1, 'm': 1, 'duct': 1, 'tape': 1}} ---- <class 'dict'>\n",
      "{'category': 'AIRBAG_MODULES', 'word_count': {'panel': 1, 'orig': 1, 'peugeot': 1, 'xsara': 1, 'picasso': 1}} ---- <class 'dict'>\n",
      "{'category': 'AIR_COMPRESSORS', 'word_count': {'compresor': 1, 'aire': 1, 'lts': 1, '3hp': 1, 'aceite': 1, 'kit': 1, 'pieza': 1, 'omaha': 1}} ---- <class 'dict'>\n",
      "{'category': 'AIR_CONDITIONERS', 'word_count': {'aire': 1, 'portatil': 1, 'philco': 1, 'frigorias': 1, 'frio': 1, 'calor': 1}} ---- <class 'dict'>\n",
      "{'category': 'AIR_CONDITIONER_REMOTE_CONTROLS', 'word_count': {'control': 1, 'remoto': 1, 'aire': 1, 'acondicionado': 1, 'electrolux': 1, 'cu': 1, 'aa386': 1}} ---- <class 'dict'>\n",
      "{'category': 'ALARMS_AND_SENSORS', 'word_count': {'pc': 1, 's3': 1, 'tvoc': 1, 'hcho': 1, 'detector': 1, 'formaldehído': 1, 'calidad': 1, 'aire': 1, 'discador': 1, 'telefonico': 1, 'dumont': 1, 'dt': 1, '14': 1, 'numeros': 1, 'msj': 1, 'voz': 1, 'boyero': 1, 'electrificador': 1, 'solar': 1, 'km': 1, 'completo': 1, 's': 1}} ---- <class 'dict'>\n",
      "{'category': 'ALARM_CLOCKS', 'word_count': {'reloj': 2, 'pared': 1, 'despertador': 1, 'casio': 1, 'radio': 1, 'noblex': 1, 'am': 1, 'fm': 1, 'alarma': 1, 'rj950': 1, 'outlet': 1}} ---- <class 'dict'>\n",
      "{'category': 'ALTERNATOR_PULLEYS', 'word_count': {'polea': 1, 'alternador': 1, 'zen': 1, 'año': 1, 'reemplaza': 1, 'luk': 1}} ---- <class 'dict'>\n",
      "{'category': 'ANALOG_CAMERAS', 'word_count': {'camara': 2, 'fotografica': 1, 'nikon': 1, 'n65': 1, 'kodak': 1, 'sport': 1, 'camera': 1, 'electronic': 1, 'flash': 1}} ---- <class 'dict'>\n",
      "{'category': 'ANTIQUE_CHAIRS', 'word_count': {'antiguas': 1, 'sillas': 1, 'sillones': 1, 'cabecera': 1, 'uno': 1, 'mecedora': 1, 'windsor': 1, 'antigua': 1}} ---- <class 'dict'>\n",
      "{'category': 'AUDIO_AMPLIFIERS', 'word_count': {'amplificador': 1, 'marantz': 1, 'model': 1, 'espectacular': 1, 'elrodeo': 1}} ---- <class 'dict'>\n",
      "{'category': 'AUTOMOBILE_FENDER_LINERS', 'word_count': {'pasarrueda': 1, 'guardaplast': 1, 'mondeo': 1, 'kinetic': 1, 'delantero': 1, 'izq': 1}} ---- <class 'dict'>\n",
      "{'category': 'AUTOMOBILE_FUEL_PUMPS', 'word_count': {'bomba': 1, 'nafta': 1, 'kobla': 1, 'pick': 1, 'up': 1, 'c10': 1, 'sevel': 1, 'todos': 1}} ---- <class 'dict'>\n",
      "{'category': 'AUTOMOTIVE_AMPLIFIERS', 'word_count': {'potencia': 1, 'jl': 1, 'audio': 1, 'hd900': 1, '5': 1, 'phoenix': 1, 'gold': 1, 'alpine': 1, 'rockford': 1}} ---- <class 'dict'>\n",
      "{'category': 'AUTOMOTIVE_ARMRESTS', 'word_count': {'apoya': 1, 'brazo': 1, 'ecosport': 1, 'kinetic': 1, 'central': 1, 'cuero': 1, 'eco': 1, 'acolchado': 1}} ---- <class 'dict'>\n",
      "{'category': 'AUTOMOTIVE_BATTERIES', 'word_count': {'bateria': 2, 'bosch': 2, 's3': 1, 'renault': 1, 'clio': 1, 'ii': 1, 'rn': 1, 'rt': 1, '8v': 1, 'chevrolet': 1, 'diesel': 1, 'cruze': 1, 'captiva': 1}} ---- <class 'dict'>\n",
      "{'category': 'AUTOMOTIVE_BUMPER_GRILLES', 'word_count': {'parrilla': 1, 'chevrolet': 1, 'aveo': 1, 'der': 1}} ---- <class 'dict'>\n",
      "{'category': 'AUTOMOTIVE_DEFLECTORS', 'word_count': {'homoc': 1, 'l': 1, 'rueda': 1, 'bluebird': 1, 'deflector': 1, 'ventanilla': 1, 'trasero': 1, 'renault': 1, 'megane': 1, 'coliza': 1, 'x2': 1}} ---- <class 'dict'>\n",
      "{'category': 'AUTOMOTIVE_EMBLEMS', 'word_count': {'tapas': 1, 'centro': 1, 'llanta': 1, 'gris': 1, 'peugeot': 1, 'auto': 1, 'etiqueta': 1, 'engomada': 1, 'volante': 1, 'aleación': 1, 'cue': 1}} ---- <class 'dict'>\n",
      "{'category': 'AUTOMOTIVE_FRONT_BUMPERS', 'word_count': {'paragolpe': 1, 'delantero': 1, 'fiat': 1, 'stilo': 1}} ---- <class 'dict'>\n",
      "{'category': 'AUTOMOTIVE_HEADLIGHTS', 'word_count': {'óptica': 1, 'izq': 1, 'original': 1, 'ford': 1, 'fiesta': 1, 'courier': 1, 'giro': 1, 'ambar': 1}} ---- <class 'dict'>\n",
      "{'category': 'AUTOMOTIVE_MOLDINGS', 'word_count': {'protector': 1, 'paragolpes': 1, 'transparente': 1, 'suzuki': 1, 'fun': 1, '3p': 1, 'sealpro': 1}} ---- <class 'dict'>\n",
      "{'category': 'AUTOMOTIVE_SEATS', 'word_count': {'butaca': 1, 'asientos': 1, 'conbi': 1, 'trafic': 1, 'unidas': 1, 'lista': 1, 'p': 1, 'colocar': 1}} ---- <class 'dict'>\n",
      "{'category': 'AUTOMOTIVE_SHIFT_LEVER_KNOBS', 'word_count': {'perilla': 1, 'palanca': 1, 'cambio': 1, 'ford': 1, 'camion': 1, 'nacional': 1, 'gris': 1}} ---- <class 'dict'>\n",
      "{'category': 'AUTOMOTIVE_SHOCK_ABSORBERS', 'word_count': {'amortiguador': 1, 'cofap': 1, 'fiat': 2, 'strada': 1, 'adventure': 1, 'par': 1, 'amortiguadores': 1, 'delanteros': 1, 'palio': 1, 'abs': 1}} ---- <class 'dict'>\n",
      "{'category': 'AUTOMOTIVE_SIDE_VIEW_MIRRORS', 'word_count': {'espejo': 1, 'peugeot': 1, 'partner': 1, 'derecha': 1, 'electrico': 1, 'tapa': 1, 'año': 2}} ---- <class 'dict'>\n",
      "{'category': 'AUTOMOTIVE_SIDE_VIEW_MIRROR_GLASSES', 'word_count': {'vidrio': 1, 'espejo': 1, 'der': 1, 'curvo': 1, 'twingo971': 1}} ---- <class 'dict'>\n",
      "{'category': 'AUTOMOTIVE_SPRING_SUSPENSIONS', 'word_count': {'kit': 1, 'x4': 1, 'espirales': 2, 'resortes': 1, 'progresivos': 2, 'rm': 1, 'p': 1, 'fiat': 1, 'palio': 1, 'fire': 1, 'usados': 1}} ---- <class 'dict'>\n",
      "{'category': 'AUTOMOTIVE_TRUNK_LIDS', 'word_count': {'tapa': 1, 'baul': 1, 'renault': 1, 'acceso': 1, 'empaque': 1, 'portón': 1, 'trailseal': 1, 'porton': 1, 'trasero': 1, 'ford': 1, 'ecosport': 1, '4x2': 1, 'xlt': 1, 'plus': 1, 'rur': 1}} ---- <class 'dict'>\n",
      "{'category': 'BABIES_FOOTWEAR', 'word_count': {'zapatos': 1, 'bebés': 1, 'meses': 1}} ---- <class 'dict'>\n",
      "{'category': 'BABIES_FORMULA', 'word_count': {'sancor': 1, 'bebé': 1, 'leche': 1, 'polvo': 1}} ---- <class 'dict'>\n",
      "{'category': 'BABY_BLANKETS', 'word_count': {'manta': 1, 'peluche': 1, 'mu': 1, 'eca': 1, 'auto': 1}} ---- <class 'dict'>\n",
      "{'category': 'BABY_BODYSUITS', 'word_count': {'body': 1, 'bebe': 1, 'motivos': 1, 'sublimar': 1, 'excelente': 1, 'calidad': 1}} ---- <class 'dict'>\n",
      "{'category': 'BABY_BOUNCERS', 'word_count': {'sillita': 1, 'bebe': 1, 'musical': 1, 'vibracion': 2, 'mecedora': 2, 'accesorios': 1, 'bright': 1, 'starts': 1, 'disney': 1, 'silla': 1, 'bebes': 1, 'funny': 1, 'smile': 1}} ---- <class 'dict'>\n",
      "{'category': 'BABY_PLAYARDS', 'word_count': {'practicuna': 2, 'chicco': 1, 'musical': 1, 'luz': 1, 'vibra': 1, 'control': 1, 'remoto': 1, 'colchón': 1, 'cambiador': 1, 'excelente': 1, 'estado': 1}} ---- <class 'dict'>\n",
      "{'category': 'BABY_STROLLERS', 'word_count': {'cochecito': 1, 'doble': 1, 'uppababy': 1, 'vista': 1, 'georgie': 1, 'azul': 1, 'mellizos': 1}} ---- <class 'dict'>\n",
      "{'category': 'BASS_GUITARS', 'word_count': {'activo': 1, 'schecter': 1, 'stilleto': 1, 'stealth': 1, 'cuerdas': 1, 'precision': 1}} ---- <class 'dict'>\n",
      "{'category': 'BATHROOM_FAUCET_SETS', 'word_count': {'combo': 1, 'fv': 1, 'alerce': 1, 'lavatorio': 1, 'bide': 1, 'ducha': 1, 'cocina': 1, 'kit': 1, 'libby': 1, 'cs': 1, 'año': 1}} ---- <class 'dict'>\n",
      "{'category': 'BATHROOM_SINKS', 'word_count': {'bacha': 1, 'apoyo': 1, 'agujeros': 1, 'porcelana': 1, 'brillante': 1, 'cm': 1, 'dise': 1, 'o': 2, 'ba': 1}} ---- <class 'dict'>\n",
      "{'category': 'BEERS', 'word_count': {'antares': 1, 'pack': 1, 'x': 1, 'cerveza': 2, 'artesanal': 1, 'fuller': 1, 's': 1, 'honey': 1, 'dew': 1}} ---- <class 'dict'>\n",
      "{'category': 'BICYCLES', 'word_count': {'bicicleta': 2, 'ni': 1, 'o': 1, 'rodado': 1, 'nena': 1}} ---- <class 'dict'>\n",
      "{'category': 'BICYCLE_AND_MOTORCYCLE_ALARMS', 'word_count': {'traba': 1, 'disco': 1, 'alarma': 1, 'on': 1, 'guard': 1, 'km': 1, 'motos': 1}} ---- <class 'dict'>\n",
      "{'category': 'BLANKETS', 'word_count': {'simil': 1, 'piel': 1, 'campomayo': 1, 'plaza': 1, 'sabanas': 1, 'frazadas': 1, 'pi': 1, 'ata': 1, 'original': 1}} ---- <class 'dict'>\n",
      "{'category': 'BLOUSES', 'word_count': {'blusa': 1, 'color': 1, 'turquesa': 1, 'importada': 1, 'camisola': 1, 'crepe': 1, 'gasa': 1, 'talle': 1, 'xxl': 1}} ---- <class 'dict'>\n",
      "{'category': 'BLU_RAY_PLAYERS', 'word_count': {'reproductor': 1, 'bluray': 1, '3d': 1, 'samsung': 1}} ---- <class 'dict'>\n",
      "{'category': 'BODY_SHAPERS', 'word_count': {'nuevas': 1, 'mujeres': 1, 'bra': 1, 'set': 1, 'v': 1, 'profundo': 1, 'encaje': 1, 'azul': 1, 'coolibar': 1, 'upf': 1, 'man': 1, 's': 1, 'sun': 1, 'sleeves': 1, 'protector': 1, 'solar': 1, 'xx': 1, 'lar': 1}} ---- <class 'dict'>\n",
      "{'category': 'BODY_SKIN_CARE_PRODUCTS', 'word_count': {'sandra': 1, 'marzzan': 1, 'batido': 1, 'manos': 1, 'cuerpo': 1, 'chocolate': 1, 'blanco': 1}} ---- <class 'dict'>\n",
      "{'category': 'BOOKCASES', 'word_count': {'biblioteca': 2, 'baja': 1, 'puertas': 1, 'x': 2, 'estanteria': 1, 'pipeline': 1, 'naiky': 1, 'kustom': 1}} ---- <class 'dict'>\n",
      "{'category': 'BOX_SPRING_AND_MATTRESS_SETS', 'word_count': {'colchon': 1, 'sommier': 1, 'suavestar': 1, 'relax': 1}} ---- <class 'dict'>\n",
      "{'category': 'BRAKE_DRUMS', 'word_count': {'jgo': 1, 'past': 1, 'freno': 1, 'r': 1, 'kwid': 1}} ---- <class 'dict'>\n",
      "{'category': 'BRAKE_LIGHTS', 'word_count': {'faro': 1, 'vw': 1, 'voyage': 1, 'fondo': 1, 'oscuro': 1, 'trasero': 1, 'fitam': 1, 'iz': 1}} ---- <class 'dict'>\n",
      "{'category': 'BRAKE_MASTER_CYLINDERS', 'word_count': {'bomba': 1, 'freno': 1, 'peugeot': 1, '206': 1, 'c': 1, 'abs': 1, 'lorenzo': 1, 'frenos': 1}} ---- <class 'dict'>\n",
      "{'category': 'BRICKS', 'word_count': {'ladrillos': 1, 'comunes': 1, 'sueltos': 1}} ---- <class 'dict'>\n",
      "{'category': 'BUTTON_PINS', 'word_count': {'popei': 1, 'pin': 1, 'club': 1, 'celta': 1, 'vigo': 1, 'galicia': 1}} ---- <class 'dict'>\n",
      "{'category': 'CAKES', 'word_count': {'promo': 1, 'evento': 1, 'cumplea': 1, 'os': 1, 'torta': 2, 'tartas': 1, 'alfajores': 1, 'candy': 1, 'bar': 1, 'alzada': 1, 'decorada': 1, 'frozzen': 1}} ---- <class 'dict'>\n",
      "{'category': 'CALCULATORS', 'word_count': {'calculadora': 1, 'científica': 1, 'casio': 1, 'fx': 1, '991es': 1, 'usada': 1, 'buen': 1, 'estado': 1}} ---- <class 'dict'>\n",
      "{'category': 'CAMERAS', 'word_count': {'camara': 1, 'fotos': 1, 'nikon': 1, 's': 1, 'año': 1, 'wide': 1, 'mpx': 1, 'tarjeta': 1, 'gb': 1}} ---- <class 'dict'>\n",
      "{'category': 'CAMERA_AND_VIDEO_CAMERA_BAGS_AND_CASES', 'word_count': {'bolso': 1, 'fotografo': 1, 'profesional': 1, 'fresno': 1, 'mod': 1, '550': 1}} ---- <class 'dict'>\n",
      "{'category': 'CAMERA_BATTERIES', 'word_count': {'panasonic': 1, 'v': 1, 'baterias': 1, 'zinc': 1, 'carbon': 1, 'caja': 1, 'x': 1, 'unidades': 1}} ---- <class 'dict'>\n",
      "{'category': 'CAMERA_FLASHES', 'word_count': {'flash': 1, 'nissin': 1, 'pl5': 1}} ---- <class 'dict'>\n",
      "{'category': 'CAMERA_PHOTOMETERS', 'word_count': {'fotometro': 1, 'multifunción': 1, 'nissin': 1}} ---- <class 'dict'>\n",
      "{'category': 'CAMPING_STOVES', 'word_count': {'anafe': 1, 'cocina': 1, 'parrilla': 1, 'ntk': 1, 'aramis': 1}} ---- <class 'dict'>\n",
      "{'category': 'CANDLES', 'word_count': {'vela': 1, 'flotante': 1, 'cilindrica': 1, 'cm': 1, 'x': 1, 'unid': 1, 'velas': 1, 'urbanas': 1}} ---- <class 'dict'>\n",
      "{'category': 'CARPETS', 'word_count': {'c': 1, 'alfombra': 1, 'año': 1, '4': 1, 'pesada': 1, 'null': 1, 'nórdico': 1, 'mercancía': 1, 'niveles': 1, 'corazón': 1, 'bundt': 1, 'bronce': 1}} ---- <class 'dict'>\n",
      "{'category': 'CAR_AC_CONDENSERS', 'word_count': {'condensador': 2, 'fiat': 1, 'strada': 1, 'trekking': 1, 'cabina': 1, 'extendida': 1, 'chevrolet': 1, 'corsa': 1, 'c': 1}} ---- <class 'dict'>\n",
      "{'category': 'CAR_AIR_FRESHENERS', 'word_count': {'kit': 1, 'fragancias': 1, 'perfume': 1, 'automóvil': 1, 'larga': 1, 'duración': 1}} ---- <class 'dict'>\n",
      "{'category': 'CAR_DOOR_HINGES', 'word_count': {'rienda': 1, 'puerta': 1, 'fiat': 1, 'regatta': 1}} ---- <class 'dict'>\n",
      "{'category': 'CAR_HOODS', 'word_count': {'capot': 1, 'corolla': 1}} ---- <class 'dict'>\n",
      "{'category': 'CAR_SEAT_COVERS', 'word_count': {'funda': 1, 'cubre': 1, 'tapizados': 1, 'cuerina': 1, 'negra': 1, 'gris': 1, 'maranello': 1}} ---- <class 'dict'>\n",
      "{'category': 'CAR_WINDOW_SWITCHES', 'word_count': {'tecla': 1, 'levantavidrios': 1, 'corsa': 1, 'classic': 1, 'original': 1, 'gm': 1}} ---- <class 'dict'>\n",
      "{'category': 'CATS_AND_DOGS_TREATS', 'word_count': {'palitos': 1, 'extrusados': 1, 'x200': 1, 'unidades': 1, 'mejor': 1, 'calidad': 1}} ---- <class 'dict'>\n",
      "{'category': 'CD_AND_DVD_PLAYERS', 'word_count': {'philips': 1}} ---- <class 'dict'>\n",
      "{'category': 'CEILING_LIGHTS', 'word_count': {'colgantes': 1, 'tambor': 1, 'luces': 1, 'colores': 1, 'varios': 1}} ---- <class 'dict'>\n",
      "{'category': 'CELLPHONES', 'word_count': {'iphone': 1, 'liberado': 1, 'cargador': 1, 'original': 1, 'a': 1, 'o': 1, 'uso': 1}} ---- <class 'dict'>\n",
      "{'category': 'CELLPHONE_COVERS', 'word_count': {'funda': 1, 'huawei': 1, 'p': 1, 'volumen': 1, '5': 1}} ---- <class 'dict'>\n",
      "{'category': 'CELLPHONE_REPLACEMENT_CAMERAS', 'word_count': {'samsung': 1, 'grand': 1, 'prime': 1, 'exelente': 1, 'cámara': 1, 'longitud': 1}} ---- <class 'dict'>\n",
      "{'category': 'CELLPHONE_TABLET_AND_GPS_SCREEN_PROTECTORS', 'word_count': {'bakeey': 1, 'vendimia': 1, 'lucha': 1, 'contra': 1, 'huella': 1, 'digital': 1, 'lienzo': 1, 'ordenad': 1, 'vidrio': 1, 'templado': 1, 'protector': 1, 'iphone': 1, '6plus': 1, '7plus': 1, '8plus': 1}} ---- <class 'dict'>\n",
      "{'category': 'CELL_BATTERIES', 'word_count': {'pila': 1, 'cr': 1, 'año': 1, 'conector': 1, 'netbook': 1, 'gobierno': 1, 'cordoba': 1}} ---- <class 'dict'>\n",
      "{'category': 'CERAMIC_KILNS', 'word_count': {'encendedor': 1, 'horno': 1, 'rango': 1, 'suplementario': 1, 'sgr': 1, 'año': 1, 'reempl': 1}} ---- <class 'dict'>\n",
      "{'category': 'CERAMIC_TILES', 'word_count': {'ceramico': 1, 'terre': 1, 'mix': 1, 'ladrillo': 1, 'san': 1, 'lorenzo': 1, 'cerámica': 1, 'cortines': 1, '40x40': 1, 'athenea': 1, 'porfido': 1, '1': 1, 'calidad': 1}} ---- <class 'dict'>\n",
      "{'category': 'CEREAL_BARS', 'word_count': {'barrita': 1, 'cereal': 1, 'artesanal': 1, 'x': 1, 'unidad': 1}} ---- <class 'dict'>\n",
      "{'category': 'CHAMPAGNES', 'word_count': {'perrier': 1, 'jouvet': 1, 'belle': 1, 'epoque': 1, 'champagne': 1}} ---- <class 'dict'>\n",
      "{'category': 'CHISELS', 'word_count': {'lote': 1, 'gubias': 1, 'stassen': 1, 'mano': 1}} ---- <class 'dict'>\n",
      "{'category': 'CHOCOLATES', 'word_count': {'lentejas': 1, 'chocolate': 1, 'x': 1, 'bombonera': 1, 'estadio': 1, 'boca': 1, 'juniors': 1, 'bombones': 1, 'unidades': 1}} ---- <class 'dict'>\n",
      "{'category': 'CHOCOLATE_WATERFALLS', 'word_count': {'cascada': 1, 'fuente': 1, 'chocolate': 1, 'acero': 1, 'inox': 1, 'cm': 1, 'pisos': 1, 'quilmes': 1}} ---- <class 'dict'>\n",
      "{'category': 'CHRISTMAS_LIGHTS', 'word_count': {'luces': 1, 'cadena': 1, 'innotree': 1, 'led': 1, 'luz': 1, 'navidad': 1, 'prueba': 1}} ---- <class 'dict'>\n",
      "{'category': 'CHRISTMAS_TREES', 'word_count': {'arbol': 1, 'navidad': 2, 'hecho': 1, 'botellas': 1, 'plastico': 1, 'arte': 1, 'reciclado': 1, 'árbol': 1, 'dise': 1, 'o': 1, 'minimalista': 1, 'luces': 1}} ---- <class 'dict'>\n",
      "{'category': 'CLASSIC_CARS', 'word_count': {'citro': 1, 'n': 1, 'c3': 1, 'exclusive': 1}} ---- <class 'dict'>\n",
      "{'category': 'CLOTHES_HANGERS', 'word_count': {'reja': 1, 'grilla': 1, 'metalica': 1, 'organizadora': 1, 'pared': 1}} ---- <class 'dict'>\n",
      "{'category': 'CLUTCH_SLAVE_CYLINDERS', 'word_count': {'cilindro': 1, 'auxiliar': 1, 'embrague': 1, 'año': 1, '2': 1}} ---- <class 'dict'>\n",
      "{'category': 'COAT_RACKS', 'word_count': {'perchero': 1, 'pie': 1, 'industrial': 1, 'vintage': 1, 'varios': 1, 'colores': 1}} ---- <class 'dict'>\n",
      "{'category': 'COFFEE_TABLES', 'word_count': {'mesa': 1, 'esquinera': 1, 'giratoria': 1, 'niveles': 1, 'perfecto': 1, 'estado': 1}} ---- <class 'dict'>\n",
      "{'category': 'COLLECTIBLE_POSTCARDS', 'word_count': {'postal': 1, 'argentina': 1, 'buenos': 1, 'aires': 1, 'fotografica': 1, 'plaza': 1, 'san': 1, 'martin': 1}} ---- <class 'dict'>\n",
      "{'category': 'COMBUSTION_CHAINSAWS', 'word_count': {'motosierra': 1, 'hoja': 1, 'cm': 1, 'perfecto': 1, 'estado': 1}} ---- <class 'dict'>\n",
      "{'category': 'COMFORTERS', 'word_count': {'acolchado': 2, 'plaza': 1, 'licencia': 1, 'boca': 1, 'cabj': 1, 'nuevo': 1, 'matelasse': 1, 'gusta': 1, 'interio': 1, 'fundas': 1}} ---- <class 'dict'>\n"
     ]
    }
   ],
   "source": [
    "with open(my_file, 'r') as f:\n",
    "    for line in f:\n",
    "        d_line = json.loads(line)\n",
    "        print(d_line, '----', type(d_line))\n",
    "        "
   ]
  },
  {
   "cell_type": "code",
   "execution_count": 96,
   "metadata": {},
   "outputs": [
    {
     "name": "stdout",
     "output_type": "stream",
     "text": [
      "1 6\n",
      "2 7\n",
      "3 8\n",
      "4 9\n",
      "5 10\n"
     ]
    }
   ],
   "source": [
    "a = [1,2,3,4,5]\n",
    "b = [6,7,8,9,10]\n",
    "for a_i, b_i in zip(a, b):\n",
    "    print(a_i, b_i)"
   ]
  },
  {
   "cell_type": "code",
   "execution_count": null,
   "metadata": {},
   "outputs": [],
   "source": []
  },
  {
   "cell_type": "code",
   "execution_count": null,
   "metadata": {},
   "outputs": [],
   "source": [
    "def word_counter(file):\n",
    "    preprocessed_path = '../preprocessing/spacy/chiquito_span.csv'\n",
    "    preprocessed = pd.read_csv(preprocessed_path, names=['category', 'title'], sep=' ', header=None)\n",
    "    \n",
    "    preprocessed['category'] = preprocessed['category'].apply(lambda x: x.split('__label__')[1])\n",
    "    \n",
    "    preprocessed_grouped = preprocessed.groupby('category').agg(' '.join)\n",
    "    preprocessed_grouped['word_count'] = preprocessed_grouped.title.apply(lambda x: Counter(x.split()))\n",
    "    \n",
    "    "
   ]
  }
 ],
 "metadata": {
  "kernelspec": {
   "display_name": "Python 3",
   "language": "python",
   "name": "python3"
  },
  "language_info": {
   "codemirror_mode": {
    "name": "ipython",
    "version": 3
   },
   "file_extension": ".py",
   "mimetype": "text/x-python",
   "name": "python",
   "nbconvert_exporter": "python",
   "pygments_lexer": "ipython3",
   "version": "3.7.4"
  }
 },
 "nbformat": 4,
 "nbformat_minor": 4
}
