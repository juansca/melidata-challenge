{
 "cells": [
  {
   "cell_type": "code",
   "execution_count": 1,
   "metadata": {},
   "outputs": [],
   "source": [
    "import re"
   ]
  },
  {
   "cell_type": "code",
   "execution_count": 21,
   "metadata": {},
   "outputs": [
    {
     "name": "stdout",
     "output_type": "stream",
     "text": [
      "(mm|mtrs|m|cm|km|ltrs|l|m3|kg|grs|gr|g|b|mb|tb)?\n"
     ]
    }
   ],
   "source": [
    "longitud = 'mm|mtrs|m|cm|km'\n",
    "volumen = 'ltrs|l|m3'\n",
    "masa = 'kg|grs|gr|g'\n",
    "bytes_ = 'b|mb|tb'\n",
    "\n",
    "unidad = '|'.join([longitud, volumen, masa, bytes_])\n",
    "unidad = '({})?'.format(unidad)\n",
    "print(unidad)"
   ]
  },
  {
   "cell_type": "code",
   "execution_count": 33,
   "metadata": {},
   "outputs": [],
   "source": [
    "# definimos las magnitudes\n",
    "magnitud = '(\\d+)[.|,]?(\\d*)\\s*'\n",
    "\n",
    "# definimos la unidad\n",
    "longitud = 'mm|mtrs|m|cm|km'\n",
    "volumen = 'ltrs|l|m3'\n",
    "masa = 'kg|grs|gr|g'\n",
    "bytes_ = 'b|mb|tb'\n",
    "\n",
    "unidad = '|'.join([longitud, volumen, masa, bytes_])\n",
    "\n",
    "# posible union \"10cmX15cmx1m\"\n",
    "union = 'x'\n",
    "\n",
    "\n",
    "# unidades de metricas\n",
    "metricas = '(({})+({})?{}?)+'.format(magnitud, unidad, union)"
   ]
  },
  {
   "cell_type": "code",
   "execution_count": 31,
   "metadata": {},
   "outputs": [
    {
     "name": "stdout",
     "output_type": "stream",
     "text": [
      "(((\\d+)[.|,]?(\\d*)\\s*)?(mm|mtrs|m|cm|km|ltrs|l|m3|kg|grs|gr|g|b|mb|tb)?x?)+\n"
     ]
    }
   ],
   "source": [
    "print(metricas)"
   ]
  },
  {
   "cell_type": "code",
   "execution_count": 41,
   "metadata": {},
   "outputs": [
    {
     "data": {
      "text/plain": [
       "'hola como va  <METRIC> '"
      ]
     },
     "execution_count": 41,
     "metadata": {},
     "output_type": "execute_result"
    }
   ],
   "source": [
    "re.sub(metricas, ' <METRIC> ', 'hola como va 4x4')"
   ]
  }
 ],
 "metadata": {
  "kernelspec": {
   "display_name": "Python 3",
   "language": "python",
   "name": "python3"
  },
  "language_info": {
   "codemirror_mode": {
    "name": "ipython",
    "version": 3
   },
   "file_extension": ".py",
   "mimetype": "text/x-python",
   "name": "python",
   "nbconvert_exporter": "python",
   "pygments_lexer": "ipython3",
   "version": "3.7.4"
  }
 },
 "nbformat": 4,
 "nbformat_minor": 4
}
