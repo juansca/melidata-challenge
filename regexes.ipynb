{
 "cells": [
  {
   "cell_type": "code",
   "execution_count": 1,
   "metadata": {},
   "outputs": [],
   "source": [
    "import re"
   ]
  },
  {
   "cell_type": "code",
   "execution_count": 21,
   "metadata": {},
   "outputs": [
    {
     "name": "stdout",
     "output_type": "stream",
     "text": [
      "(mm|mtrs|m|cm|km|ltrs|l|m3|kg|grs|gr|g|b|mb|tb)?\n"
     ]
    }
   ],
   "source": [
    "longitud = 'mm|mtrs|m|cm|km'\n",
    "volumen = 'ltrs|l|m3'\n",
    "masa = 'kg|grs|gr|g'\n",
    "bytes_ = 'b|mb|tb'\n",
    "\n",
    "unidad = '|'.join([longitud, volumen, masa, bytes_])\n",
    "unidad = '({})?'.format(unidad)\n",
    "print(unidad)"
   ]
  },
  {
   "cell_type": "code",
   "execution_count": 33,
   "metadata": {},
   "outputs": [],
   "source": [
    "# definimos las magnitudes\n",
    "magnitud = '(\\d+)[.|,]?(\\d*)\\s*'\n",
    "\n",
    "# definimos la unidad\n",
    "longitud = 'mm|mtrs|m|cm|km'\n",
    "volumen = 'ltrs|l|m3'\n",
    "masa = 'kg|grs|gr|g'\n",
    "bytes_ = 'b|mb|tb'\n",
    "\n",
    "# posible union \"10cmX15cmx1m\"\n",
    "union = 'x'\n",
    "\n",
    "# unidades de metricas\n",
    "metric_tmpl = '(({})+({})?{}?)+'\n",
    "\n",
    "unidades = [(volumen, ' <VOLUMEN> '), (masa, ' <MASS> '), (longitud, ' <LONGITUD> '), (bytes_, ' <BYTES> ')]\n",
    "metricas = []\n",
    "for unidad, tag in unidades:\n",
    "    metrica = metric_tmpl.format(magnitud, unidad, union)\n",
    "    metricas.append((tag, re.compile(metrica)))\n",
    "\n"
   ]
  },
  {
   "cell_type": "code",
   "execution_count": 31,
   "metadata": {},
   "outputs": [
    {
     "name": "stdout",
     "output_type": "stream",
     "text": [
      "(((\\d+)[.|,]?(\\d*)\\s*)?(mm|mtrs|m|cm|km|ltrs|l|m3|kg|grs|gr|g|b|mb|tb)?x?)+\n"
     ]
    }
   ],
   "source": [
    "print(metricas)"
   ]
  },
  {
   "cell_type": "code",
   "execution_count": 41,
   "metadata": {},
   "outputs": [
    {
     "data": {
      "text/plain": [
       "'hola como va  <METRIC> '"
      ]
     },
     "execution_count": 41,
     "metadata": {},
     "output_type": "execute_result"
    }
   ],
   "source": [
    "re.sub(metricas, ' <METRIC> ', 'hola como va 4x4')"
   ]
  },
  {
   "cell_type": "code",
   "execution_count": 1,
   "metadata": {},
   "outputs": [],
   "source": [
    "class A:\n",
    "    def ble(x):\n",
    "        return x + 56\n",
    "    def bla(self, x):\n",
    "        print(ble(x))"
   ]
  },
  {
   "cell_type": "code",
   "execution_count": 2,
   "metadata": {},
   "outputs": [
    {
     "ename": "NameError",
     "evalue": "name 'ble' is not defined",
     "output_type": "error",
     "traceback": [
      "\u001b[0;31m---------------------------------------------------------------------------\u001b[0m",
      "\u001b[0;31mNameError\u001b[0m                                 Traceback (most recent call last)",
      "\u001b[0;32m<ipython-input-2-16d769abe744>\u001b[0m in \u001b[0;36m<module>\u001b[0;34m\u001b[0m\n\u001b[1;32m      1\u001b[0m \u001b[0ma\u001b[0m \u001b[0;34m=\u001b[0m \u001b[0mA\u001b[0m\u001b[0;34m(\u001b[0m\u001b[0;34m)\u001b[0m\u001b[0;34m\u001b[0m\u001b[0;34m\u001b[0m\u001b[0m\n\u001b[0;32m----> 2\u001b[0;31m \u001b[0ma\u001b[0m\u001b[0;34m.\u001b[0m\u001b[0mbla\u001b[0m\u001b[0;34m(\u001b[0m\u001b[0;36m109\u001b[0m\u001b[0;34m)\u001b[0m\u001b[0;34m\u001b[0m\u001b[0;34m\u001b[0m\u001b[0m\n\u001b[0m",
      "\u001b[0;32m<ipython-input-1-7c359e99bd78>\u001b[0m in \u001b[0;36mbla\u001b[0;34m(self, x)\u001b[0m\n\u001b[1;32m      3\u001b[0m         \u001b[0;32mreturn\u001b[0m \u001b[0mx\u001b[0m \u001b[0;34m+\u001b[0m \u001b[0;36m56\u001b[0m\u001b[0;34m\u001b[0m\u001b[0;34m\u001b[0m\u001b[0m\n\u001b[1;32m      4\u001b[0m     \u001b[0;32mdef\u001b[0m \u001b[0mbla\u001b[0m\u001b[0;34m(\u001b[0m\u001b[0mself\u001b[0m\u001b[0;34m,\u001b[0m \u001b[0mx\u001b[0m\u001b[0;34m)\u001b[0m\u001b[0;34m:\u001b[0m\u001b[0;34m\u001b[0m\u001b[0;34m\u001b[0m\u001b[0m\n\u001b[0;32m----> 5\u001b[0;31m         \u001b[0mprint\u001b[0m\u001b[0;34m(\u001b[0m\u001b[0mble\u001b[0m\u001b[0;34m(\u001b[0m\u001b[0mx\u001b[0m\u001b[0;34m)\u001b[0m\u001b[0;34m)\u001b[0m\u001b[0;34m\u001b[0m\u001b[0;34m\u001b[0m\u001b[0m\n\u001b[0m",
      "\u001b[0;31mNameError\u001b[0m: name 'ble' is not defined"
     ]
    }
   ],
   "source": [
    "a = A()\n",
    "a.bla(109)"
   ]
  }
 ],
 "metadata": {
  "kernelspec": {
   "display_name": "Python 3",
   "language": "python",
   "name": "python3"
  },
  "language_info": {
   "codemirror_mode": {
    "name": "ipython",
    "version": 3
   },
   "file_extension": ".py",
   "mimetype": "text/x-python",
   "name": "python",
   "nbconvert_exporter": "python",
   "pygments_lexer": "ipython3",
   "version": "3.7.4"
  }
 },
 "nbformat": 4,
 "nbformat_minor": 4
}
