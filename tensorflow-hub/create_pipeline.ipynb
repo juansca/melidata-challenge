{
 "cells": [
  {
   "cell_type": "code",
   "execution_count": 64,
   "metadata": {},
   "outputs": [],
   "source": [
    "import pandas as pd"
   ]
  },
  {
   "cell_type": "code",
   "execution_count": 65,
   "metadata": {},
   "outputs": [],
   "source": [
    "features_path = '../data/splitted_dataset/train_0_features_.csv'\n",
    "target_path = '../data/splitted_dataset/train_0_target_.csv'"
   ]
  },
  {
   "cell_type": "code",
   "execution_count": 66,
   "metadata": {},
   "outputs": [],
   "source": [
    "features = pd.read_csv(features_path)\n",
    "target = pd.read_csv(target_path)"
   ]
  },
  {
   "cell_type": "code",
   "execution_count": 67,
   "metadata": {},
   "outputs": [],
   "source": [
    "joined_data = features.merge(target, on='id', how='inner')"
   ]
  },
  {
   "cell_type": "markdown",
   "metadata": {},
   "source": [
    "# Create Dataset"
   ]
  },
  {
   "cell_type": "code",
   "execution_count": 68,
   "metadata": {},
   "outputs": [],
   "source": [
    "spanish_data = joined_data[joined_data.language == 'spanish']"
   ]
  },
  {
   "cell_type": "code",
   "execution_count": 114,
   "metadata": {},
   "outputs": [],
   "source": [
    "mini_data = spanish_data.sample(50000)"
   ]
  },
  {
   "cell_type": "code",
   "execution_count": 115,
   "metadata": {},
   "outputs": [],
   "source": [
    "mini_data = mini_data[['title', 'category']]"
   ]
  },
  {
   "cell_type": "code",
   "execution_count": 116,
   "metadata": {},
   "outputs": [
    {
     "data": {
      "text/plain": [
       "50000"
      ]
     },
     "execution_count": 116,
     "metadata": {},
     "output_type": "execute_result"
    }
   ],
   "source": [
    "len(mini_data)"
   ]
  },
  {
   "cell_type": "code",
   "execution_count": 117,
   "metadata": {},
   "outputs": [],
   "source": [
    "titles = mini_data.title.tolist()\n",
    "categories = mini_data.category.tolist()"
   ]
  },
  {
   "cell_type": "markdown",
   "metadata": {},
   "source": [
    "### Me quedo con las categorias que aparezcan más de 10 veces"
   ]
  },
  {
   "cell_type": "code",
   "execution_count": 111,
   "metadata": {
    "collapsed": true,
    "jupyter": {
     "outputs_hidden": true
    }
   },
   "outputs": [
    {
     "data": {
      "text/plain": [
       "[('VIDEO_GAME_PREPAID_CARDS', 12),\n",
       " ('FLASHLIGHTS', 12),\n",
       " ('VEHICLE_BRAKE_DISCS', 12),\n",
       " ('KEYBOARD_AND_MOUSE_KITS', 12),\n",
       " ('VEHICLE_STICKERS', 12),\n",
       " ('MICROPHONES', 12),\n",
       " ('THERMOSES', 12),\n",
       " ('AUTOMOTIVE_BUMPER_GRILLES', 12),\n",
       " ('RANGES', 12),\n",
       " ('SWEATERS_AND_CARDIGANS', 12),\n",
       " ('DECORATIVE_BOXES', 11),\n",
       " ('SCHOOL_AND_OFFICE_PAPERS', 11),\n",
       " ('ALARMS_AND_SENSORS', 11),\n",
       " ('TREADMILLS', 11),\n",
       " ('REFRIGERATORS', 11),\n",
       " ('WALLETS', 11),\n",
       " ('MIXERS', 11),\n",
       " ('GRAPHICS_CARDS', 11),\n",
       " ('ANTIQUE_CHAIRS', 11),\n",
       " ('DESKTOP_COMPUTER_POWER_SUPPLIES', 11),\n",
       " ('SUSPENSION_CONTROL_ARM_BUSHINGS', 11),\n",
       " ('ROLLER_SKATES', 11),\n",
       " ('DOOR_AND_WINDOW_LOCKS', 11),\n",
       " ('MANGA', 11),\n",
       " ('KITCHEN_MOLDS', 11),\n",
       " ('MOTORCYCLE_FAIRINGS', 10),\n",
       " ('AUTOMOTIVE_DOORS', 10),\n",
       " ('NOTEBOOKS_AND_WRITING_PADS', 10),\n",
       " ('TABLECLOTHS', 10),\n",
       " ('DECORATIVE_BASKETS', 10),\n",
       " ('SANDER_MACHINES', 10),\n",
       " ('COLLECTIBLE_POSTCARDS', 10),\n",
       " ('VEHICLE_SPEAKERS', 10),\n",
       " ('AUTOMOTIVE_THROTTLE_BODIES', 10),\n",
       " ('TV_SMPS', 10),\n",
       " ('FOLDERS_AND_EXPANDING_FILES', 10),\n",
       " ('NAIL_POLISH', 10),\n",
       " ('LINGERIE_SETS', 10),\n",
       " ('CARPETS', 10),\n",
       " ('SUSPENSION_BALL_JOINTS', 10),\n",
       " ('T_SHIRTS', 10),\n",
       " ('CAR_ENGINE_CAMSHAFTS', 10),\n",
       " ('AIR_COMPRESSORS', 10),\n",
       " ('ANTI_THEFT_STUDS', 10),\n",
       " ('COSTUMES', 10),\n",
       " ('CAKE_TOPPERS', 10),\n",
       " ('ARTIFICIAL_PLANTS', 10),\n",
       " ('RAM_MEMORY_MODULES', 10),\n",
       " ('FISHING_REELS', 10),\n",
       " ('WOMEN_SWIMWEAR', 10),\n",
       " ('MAKEUP_BRUSHES', 10),\n",
       " ('AUDIO_AND_VIDEO_CONNECTORS', 10),\n",
       " ('CAR_SEAT_COVERS', 10),\n",
       " ('CAMERA_LENSES', 10),\n",
       " ('THERMAL_CUPS_AND_TUMBLERS', 10),\n",
       " ('BACKPACKS', 10),\n",
       " ('CHOCOLATES', 10),\n",
       " ('CAR_LIGHT_BULBS', 10),\n",
       " ('ENGINE_OILS', 10),\n",
       " ('BABY_DIAPERS', 10),\n",
       " ('PACKAGING_CONTAINERS', 10),\n",
       " ('AUTOMOTIVE_SIDE_VIEW_MIRRORS', 10),\n",
       " ('MOVIES', 10)]"
      ]
     },
     "execution_count": 111,
     "metadata": {},
     "output_type": "execute_result"
    }
   ],
   "source": [
    "[(k, v) for k, v in mini_data.category.value_counts().items() if v >= 10][:]"
   ]
  },
  {
   "cell_type": "code",
   "execution_count": 110,
   "metadata": {},
   "outputs": [
    {
     "data": {
      "text/plain": [
       "1219"
      ]
     },
     "execution_count": 110,
     "metadata": {},
     "output_type": "execute_result"
    }
   ],
   "source": [
    "len(mini_data.category.unique())"
   ]
  },
  {
   "cell_type": "markdown",
   "metadata": {},
   "source": [
    "# Make model"
   ]
  },
  {
   "cell_type": "code",
   "execution_count": 73,
   "metadata": {},
   "outputs": [],
   "source": [
    "import tensorflow as tf\n",
    "import tensorflow_hub as hub"
   ]
  },
  {
   "cell_type": "code",
   "execution_count": 74,
   "metadata": {},
   "outputs": [],
   "source": [
    "module_url_span = \"https://tfhub.dev/google/tf2-preview/nnlm-es-dim50-with-normalization/1\"\n",
    "module_url_port = \"https://tfhub.dev/google/wiki40b-lm-pt/1\""
   ]
  },
  {
   "cell_type": "code",
   "execution_count": 75,
   "metadata": {},
   "outputs": [],
   "source": [
    "embed = hub.KerasLayer(module_url_span)"
   ]
  },
  {
   "cell_type": "code",
   "execution_count": 79,
   "metadata": {},
   "outputs": [
    {
     "data": {
      "text/plain": [
       "TensorShape([1, 50])"
      ]
     },
     "execution_count": 79,
     "metadata": {},
     "output_type": "execute_result"
    }
   ],
   "source": [
    "embed(['hola lisa']).shape"
   ]
  },
  {
   "cell_type": "code",
   "execution_count": 81,
   "metadata": {},
   "outputs": [],
   "source": [
    "from sklearn.pipeline import make_pipeline\n",
    "from sklearn.ensemble import RandomForestClassifier\n",
    "from sklearn.linear_model import LogisticRegression  # use any classifier"
   ]
  },
  {
   "cell_type": "code",
   "execution_count": 80,
   "metadata": {},
   "outputs": [],
   "source": [
    "class Transformer:\n",
    "    def __init__(self, model):\n",
    "        self.model = model\n",
    "\n",
    "    def transform(self, x):\n",
    "        return self.model(x)\n",
    "\n",
    "    def fit(self, x, y):\n",
    "        return self"
   ]
  },
  {
   "cell_type": "code",
   "execution_count": 118,
   "metadata": {},
   "outputs": [],
   "source": [
    "model = make_pipeline(    \n",
    "    Transformer(embed), # preprocessing\n",
    "    LogisticRegression(), # model\n",
    "    # postprocessing\n",
    "    verbose=True\n",
    ")"
   ]
  },
  {
   "cell_type": "code",
   "execution_count": null,
   "metadata": {},
   "outputs": [
    {
     "name": "stdout",
     "output_type": "stream",
     "text": [
      "[Pipeline] ....... (step 1 of 2) Processing transformer, total=   0.5s\n"
     ]
    },
    {
     "name": "stderr",
     "output_type": "stream",
     "text": [
      "/usr/local/lib/python3.7/site-packages/sklearn/linear_model/logistic.py:432: FutureWarning: Default solver will be changed to 'lbfgs' in 0.22. Specify a solver to silence this warning.\n",
      "  FutureWarning)\n",
      "/usr/local/lib/python3.7/site-packages/sklearn/linear_model/logistic.py:469: FutureWarning: Default multi_class will be changed to 'auto' in 0.22. Specify the multi_class option to silence this warning.\n",
      "  \"this warning.\", FutureWarning)\n"
     ]
    }
   ],
   "source": [
    "model.fit(titles, categories)"
   ]
  },
  {
   "cell_type": "code",
   "execution_count": 122,
   "metadata": {},
   "outputs": [],
   "source": [
    "validation_set = spanish_data[spanish_data.category == 'MOVIES'].sample(10).title"
   ]
  },
  {
   "cell_type": "code",
   "execution_count": 123,
   "metadata": {},
   "outputs": [
    {
     "name": "stdout",
     "output_type": "stream",
     "text": [
      "Boy & The Beast The Boy And The Beast Blu-ray Us Import ['VIDEO_GAMES']\n",
      "Hostel - Part Ii - Blu-ray - Hd - Impecable  ['MOVIES']\n",
      "Bailarina En La Oscuridad( Dancer In In The Dark) Dvd ['MUSIC_ALBUMS']\n",
      "Ronaldo, El Fenomeno - Dvd Nuevo Original Cerrado Zona 4 ['MOVIES']\n",
      "211 (2018) 211 Blu-ray Us Import ['CD_AND_DVD_PLAYERS']\n",
      "Dvd :   - The Great Barrier Reef (eco Amaray Case) ['MOVIES']\n",
      "Pelicula Super 8 8mm Rey Juan Carlos España Rtve ['COMICS']\n",
      "Películas Harry Potter Dvd Originales ['MOVIES']\n",
      "Leccion Mortal Helen Mirren Katie Holmes Dvd Import Z 2 Nvo ['DOLLS']\n",
      "Mi Cielo Azul Vhs Steve Martin Rick Moranis My Blue Heaven ['MUSIC_ALBUMS']\n"
     ]
    }
   ],
   "source": [
    "for title in validation_set.tolist():\n",
    "    print(title, model.predict([title]))"
   ]
  }
 ],
 "metadata": {
  "kernelspec": {
   "display_name": "Python 3",
   "language": "python",
   "name": "python3"
  },
  "language_info": {
   "codemirror_mode": {
    "name": "ipython",
    "version": 3
   },
   "file_extension": ".py",
   "mimetype": "text/x-python",
   "name": "python",
   "nbconvert_exporter": "python",
   "pygments_lexer": "ipython3",
   "version": "3.7.4"
  }
 },
 "nbformat": 4,
 "nbformat_minor": 4
}
